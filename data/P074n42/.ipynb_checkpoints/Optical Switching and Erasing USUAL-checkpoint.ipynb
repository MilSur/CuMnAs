{
 "cells": [
  {
   "cell_type": "code",
   "execution_count": 1,
   "metadata": {
    "scrolled": true
   },
   "outputs": [
    {
     "name": "stderr",
     "output_type": "stream",
     "text": [
      "C:\\Users\\TeraLab\\anaconda3\\lib\\site-packages\\pylablib\\legacy\\__init__.py:2: FutureWarning: legacy (pre 1.0) code will be removed in future versions\n",
      "  warnings.warn(\"legacy (pre 1.0) code will be removed in future versions\",FutureWarning)\n"
     ]
    },
    {
     "name": "stdout",
     "output_type": "stream",
     "text": [
      "SourceMeter:  KEITHLEY INSTRUMENTS INC.,MODEL 2400,4104420,C33   Mar 31 2015 09:32:39/A02  /U/K\n",
      "\n",
      "MultiMeter:  KEITHLEY INSTRUMENTS INC.,MODEL 2400,4104420,C33   Mar 31 2015 09:32:39/A02  /U/K\n",
      "\n",
      "LakeShore:  LSCI,MODEL335,335A0U4/#######,1.2\n",
      "\n",
      "Connected to KCubeSolenoid<Thorlabs|KSC101|68000117>\n"
     ]
    },
    {
     "ename": "FT232BackendOpenError",
     "evalue": "Device Not Opened",
     "output_type": "error",
     "traceback": [
      "\u001b[1;31m---------------------------------------------------------------------------\u001b[0m",
      "\u001b[1;31mD2XXException\u001b[0m                             Traceback (most recent call last)",
      "\u001b[1;32m~\\anaconda3\\lib\\site-packages\\pylablib\\legacy\\core\\devio\\backend.py\u001b[0m in \u001b[0;36m__init__\u001b[1;34m(self, conn, timeout, term_write, term_read, open_retry_times, datatype)\u001b[0m\n\u001b[0;32m    697\u001b[0m             \u001b[1;32mtry\u001b[0m\u001b[1;33m:\u001b[0m\u001b[1;33m\u001b[0m\u001b[1;33m\u001b[0m\u001b[0m\n\u001b[1;32m--> 698\u001b[1;33m                 \u001b[0mself\u001b[0m\u001b[1;33m.\u001b[0m\u001b[0minstr\u001b[0m\u001b[1;33m=\u001b[0m\u001b[0mft232\u001b[0m\u001b[1;33m.\u001b[0m\u001b[0mFt232\u001b[0m\u001b[1;33m(\u001b[0m\u001b[0mport\u001b[0m\u001b[1;33m,\u001b[0m\u001b[1;33m**\u001b[0m\u001b[0mconn_dict\u001b[0m\u001b[1;33m)\u001b[0m\u001b[1;33m\u001b[0m\u001b[1;33m\u001b[0m\u001b[0m\n\u001b[0m\u001b[0;32m    699\u001b[0m                 \u001b[0mself\u001b[0m\u001b[1;33m.\u001b[0m\u001b[0mopened\u001b[0m\u001b[1;33m=\u001b[0m\u001b[1;32mTrue\u001b[0m\u001b[1;33m\u001b[0m\u001b[1;33m\u001b[0m\u001b[0m\n",
      "\u001b[1;32m~\\anaconda3\\lib\\site-packages\\ft232\\d2xx.py\u001b[0m in \u001b[0;36m__init__\u001b[1;34m(self, port, serial_number, description, baudrate, bytesize, parity, stopbits, timeout, xonxoff, rtscts, writeTimeout)\u001b[0m\n\u001b[0;32m    126\u001b[0m                                     c.byref(self.handle))\n\u001b[1;32m--> 127\u001b[1;33m             \u001b[1;32mif\u001b[0m \u001b[0mstatus\u001b[0m \u001b[1;33m!=\u001b[0m \u001b[0mFT_OK\u001b[0m\u001b[1;33m:\u001b[0m \u001b[1;32mraise\u001b[0m \u001b[0mD2XXException\u001b[0m\u001b[1;33m(\u001b[0m\u001b[0mstatus\u001b[0m\u001b[1;33m)\u001b[0m\u001b[1;33m\u001b[0m\u001b[1;33m\u001b[0m\u001b[0m\n\u001b[0m\u001b[0;32m    128\u001b[0m         \u001b[1;32melif\u001b[0m \u001b[0mdescription\u001b[0m\u001b[1;33m:\u001b[0m\u001b[1;33m\u001b[0m\u001b[1;33m\u001b[0m\u001b[0m\n",
      "\u001b[1;31mD2XXException\u001b[0m: Device Not Opened",
      "\nDuring handling of the above exception, another exception occurred:\n",
      "\u001b[1;31mFT232BackendOpenError\u001b[0m                     Traceback (most recent call last)",
      "\u001b[1;32m<ipython-input-1-0e2798fdfd6e>\u001b[0m in \u001b[0;36m<module>\u001b[1;34m\u001b[0m\n\u001b[0;32m     57\u001b[0m \u001b[1;33m\u001b[0m\u001b[0m\n\u001b[0;32m     58\u001b[0m \u001b[1;31m# Cube ------------------------------------------------------------------------\u001b[0m\u001b[1;33m\u001b[0m\u001b[1;33m\u001b[0m\u001b[1;33m\u001b[0m\u001b[0m\n\u001b[1;32m---> 59\u001b[1;33m \u001b[0mrotator\u001b[0m \u001b[1;33m=\u001b[0m \u001b[0mThorlabs\u001b[0m\u001b[1;33m.\u001b[0m\u001b[0mKDC101\u001b[0m\u001b[1;33m(\u001b[0m\u001b[1;34m\"27001330\"\u001b[0m\u001b[1;33m)\u001b[0m\u001b[1;33m\u001b[0m\u001b[1;33m\u001b[0m\u001b[0m\n\u001b[0m\u001b[0;32m     60\u001b[0m \u001b[0mprint\u001b[0m\u001b[1;33m(\u001b[0m\u001b[1;34m'Connected to {}'\u001b[0m\u001b[1;33m.\u001b[0m\u001b[0mformat\u001b[0m\u001b[1;33m(\u001b[0m\u001b[0mrotator\u001b[0m\u001b[1;33m)\u001b[0m\u001b[1;33m)\u001b[0m\u001b[1;33m\u001b[0m\u001b[1;33m\u001b[0m\u001b[0m\n\u001b[0;32m     61\u001b[0m \u001b[1;33m\u001b[0m\u001b[0m\n",
      "\u001b[1;32m~\\anaconda3\\lib\\site-packages\\pylablib\\legacy\\aux_libs\\devices\\Thorlabs.py\u001b[0m in \u001b[0;36m__init__\u001b[1;34m(self, conn)\u001b[0m\n\u001b[0;32m    359\u001b[0m     \"\"\"\n\u001b[0;32m    360\u001b[0m     \u001b[1;32mdef\u001b[0m \u001b[0m__init__\u001b[0m\u001b[1;33m(\u001b[0m\u001b[0mself\u001b[0m\u001b[1;33m,\u001b[0m \u001b[0mconn\u001b[0m\u001b[1;33m)\u001b[0m\u001b[1;33m:\u001b[0m\u001b[1;33m\u001b[0m\u001b[1;33m\u001b[0m\u001b[0m\n\u001b[1;32m--> 361\u001b[1;33m         \u001b[0mKinesisDevice\u001b[0m\u001b[1;33m.\u001b[0m\u001b[0m__init__\u001b[0m\u001b[1;33m(\u001b[0m\u001b[0mself\u001b[0m\u001b[1;33m,\u001b[0m\u001b[0mconn\u001b[0m\u001b[1;33m)\u001b[0m\u001b[1;33m\u001b[0m\u001b[1;33m\u001b[0m\u001b[0m\n\u001b[0m\u001b[0;32m    362\u001b[0m         \u001b[0mself\u001b[0m\u001b[1;33m.\u001b[0m\u001b[0m_forward_pos\u001b[0m\u001b[1;33m=\u001b[0m\u001b[1;32mFalse\u001b[0m\u001b[1;33m\u001b[0m\u001b[1;33m\u001b[0m\u001b[0m\n\u001b[0;32m    363\u001b[0m         \u001b[0mself\u001b[0m\u001b[1;33m.\u001b[0m\u001b[0madd_background_comm\u001b[0m\u001b[1;33m(\u001b[0m\u001b[1;36m0x0464\u001b[0m\u001b[1;33m)\u001b[0m \u001b[1;31m# move completed\u001b[0m\u001b[1;33m\u001b[0m\u001b[1;33m\u001b[0m\u001b[0m\n",
      "\u001b[1;32m~\\anaconda3\\lib\\site-packages\\pylablib\\legacy\\aux_libs\\devices\\Thorlabs.py\u001b[0m in \u001b[0;36m__init__\u001b[1;34m(self, conn, timeout)\u001b[0m\n\u001b[0;32m    195\u001b[0m     \u001b[1;32mdef\u001b[0m \u001b[0m__init__\u001b[0m\u001b[1;33m(\u001b[0m\u001b[0mself\u001b[0m\u001b[1;33m,\u001b[0m \u001b[0mconn\u001b[0m\u001b[1;33m,\u001b[0m \u001b[0mtimeout\u001b[0m\u001b[1;33m=\u001b[0m\u001b[1;36m3.\u001b[0m\u001b[1;33m)\u001b[0m\u001b[1;33m:\u001b[0m\u001b[1;33m\u001b[0m\u001b[1;33m\u001b[0m\u001b[0m\n\u001b[0;32m    196\u001b[0m         \u001b[0mconn\u001b[0m\u001b[1;33m=\u001b[0m\u001b[0mbackend\u001b[0m\u001b[1;33m.\u001b[0m\u001b[0mFT232DeviceBackend\u001b[0m\u001b[1;33m.\u001b[0m\u001b[0mcombine_conn\u001b[0m\u001b[1;33m(\u001b[0m\u001b[0mconn\u001b[0m\u001b[1;33m,\u001b[0m\u001b[1;33m(\u001b[0m\u001b[1;32mNone\u001b[0m\u001b[1;33m,\u001b[0m\u001b[1;36m115200\u001b[0m\u001b[1;33m)\u001b[0m\u001b[1;33m)\u001b[0m\u001b[1;33m\u001b[0m\u001b[1;33m\u001b[0m\u001b[0m\n\u001b[1;32m--> 197\u001b[1;33m         \u001b[0minstr\u001b[0m\u001b[1;33m=\u001b[0m\u001b[0mbackend\u001b[0m\u001b[1;33m.\u001b[0m\u001b[0mFT232DeviceBackend\u001b[0m\u001b[1;33m(\u001b[0m\u001b[0mconn\u001b[0m\u001b[1;33m,\u001b[0m\u001b[0mterm_write\u001b[0m\u001b[1;33m=\u001b[0m\u001b[1;34mb\"\"\u001b[0m\u001b[1;33m,\u001b[0m\u001b[0mterm_read\u001b[0m\u001b[1;33m=\u001b[0m\u001b[1;34mb\"\"\u001b[0m\u001b[1;33m,\u001b[0m\u001b[0mtimeout\u001b[0m\u001b[1;33m=\u001b[0m\u001b[0mtimeout\u001b[0m\u001b[1;33m)\u001b[0m\u001b[1;33m\u001b[0m\u001b[1;33m\u001b[0m\u001b[0m\n\u001b[0m\u001b[0;32m    198\u001b[0m         \u001b[0minstr\u001b[0m\u001b[1;33m.\u001b[0m\u001b[0m_operation_cooldown\u001b[0m\u001b[1;33m=\u001b[0m\u001b[1;36m0.01\u001b[0m\u001b[1;33m\u001b[0m\u001b[1;33m\u001b[0m\u001b[0m\n\u001b[0;32m    199\u001b[0m         \u001b[0mbackend\u001b[0m\u001b[1;33m.\u001b[0m\u001b[0mIBackendWrapper\u001b[0m\u001b[1;33m.\u001b[0m\u001b[0m__init__\u001b[0m\u001b[1;33m(\u001b[0m\u001b[0mself\u001b[0m\u001b[1;33m,\u001b[0m\u001b[0minstr\u001b[0m\u001b[1;33m)\u001b[0m\u001b[1;33m\u001b[0m\u001b[1;33m\u001b[0m\u001b[0m\n",
      "\u001b[1;32m~\\anaconda3\\lib\\site-packages\\pylablib\\legacy\\core\\devio\\backend.py\u001b[0m in \u001b[0;36m__init__\u001b[1;34m(self, conn, timeout, term_write, term_read, open_retry_times, datatype)\u001b[0m\n\u001b[0;32m    704\u001b[0m                 \u001b[0mself\u001b[0m\u001b[1;33m.\u001b[0m\u001b[0m_conn_params\u001b[0m\u001b[1;33m=\u001b[0m\u001b[1;33m(\u001b[0m\u001b[0mport\u001b[0m\u001b[1;33m,\u001b[0m\u001b[0mconn_dict\u001b[0m\u001b[1;33m,\u001b[0m\u001b[0mtimeout\u001b[0m\u001b[1;33m)\u001b[0m\u001b[1;33m\u001b[0m\u001b[1;33m\u001b[0m\u001b[0m\n\u001b[0;32m    705\u001b[0m             \u001b[1;32mexcept\u001b[0m \u001b[0mself\u001b[0m\u001b[1;33m.\u001b[0m\u001b[0mError\u001b[0m \u001b[1;32mas\u001b[0m \u001b[0me\u001b[0m\u001b[1;33m:\u001b[0m\u001b[1;33m\u001b[0m\u001b[1;33m\u001b[0m\u001b[0m\n\u001b[1;32m--> 706\u001b[1;33m                 \u001b[1;32mraise\u001b[0m \u001b[0mFT232BackendOpenError\u001b[0m\u001b[1;33m(\u001b[0m\u001b[0me\u001b[0m\u001b[1;33m)\u001b[0m\u001b[1;33m\u001b[0m\u001b[1;33m\u001b[0m\u001b[0m\n\u001b[0m\u001b[0;32m    707\u001b[0m \u001b[1;33m\u001b[0m\u001b[0m\n\u001b[0;32m    708\u001b[0m         \u001b[1;32mdef\u001b[0m \u001b[0m_do_open\u001b[0m\u001b[1;33m(\u001b[0m\u001b[0mself\u001b[0m\u001b[1;33m)\u001b[0m\u001b[1;33m:\u001b[0m\u001b[1;33m\u001b[0m\u001b[1;33m\u001b[0m\u001b[0m\n",
      "\u001b[1;31mFT232BackendOpenError\u001b[0m: Device Not Opened"
     ]
    }
   ],
   "source": [
    "import os\n",
    "import time\n",
    "from datetime import datetime, timedelta\n",
    "#from ctypes import *\n",
    "import numpy as np\n",
    "import matplotlib.pyplot as plt\n",
    "import serial\n",
    "\n",
    "from scipy.optimize import curve_fit\n",
    "from apscheduler.schedulers.background import BackgroundScheduler\n",
    "\n",
    "# GPBI communication\n",
    "import pyvisa\n",
    "\n",
    "# Thorlabs Shutter\n",
    "from msl.equipment import EquipmentRecord, ConnectionRecord, Backend\n",
    "from msl.equipment.resources.thorlabs import MotionControl\n",
    "\n",
    "# Thorlabs Cube\n",
    "from pylablib.legacy.aux_libs.devices import Thorlabs\n",
    "#stage_y = Thorlabs.KDC101(\"27001274\")\n",
    "\n",
    "# logging\n",
    "import logging\n",
    "logging.basicConfig(filename='logger.log', filemode='a', format='%(asctime)s - %(message)s', level=logging.INFO)\n",
    "\n",
    "\n",
    "# GPBI Init ------------------------------------------------------------------------\n",
    "rm = pyvisa.ResourceManager()\n",
    "instKSM = rm.open_resource('GPIB0::15::INSTR')\n",
    "instKMM = rm.open_resource('GPIB0::16::INSTR')\n",
    "lakeshore = rm.open_resource('GPIB0::11::INSTR')\n",
    "print(\"SourceMeter: \", instKSM.query(\"*IDN?\"))\n",
    "print(\"MultiMeter: \", instKSM.query(\"*IDN?\"))\n",
    "print(\"LakeShore: \", lakeshore.query(\"*IDN?\"))\n",
    "\n",
    "# Shutter ------------------------------------------------------------------------\n",
    "os.environ['PATH'] += os.pathsep + 'C:/Program Files/Thorlabs/Kinesis'\n",
    "\n",
    "MotionControl.build_device_list()\n",
    "\n",
    "sh07 = EquipmentRecord(\n",
    "    manufacturer='Thorlabs',\n",
    "    model='KSC101',\n",
    "    serial='68000117',  # update the serial number for your KSC101\n",
    "    connection=ConnectionRecord(\n",
    "        backend=Backend.MSL,\n",
    "        address='SDK::Thorlabs.MotionControl.KCube.Solenoid.dll',\n",
    "    ),\n",
    ")\n",
    "\n",
    "\n",
    "shutter = sh07.connect()\n",
    "print('Connected to {}'.format(shutter))\n",
    "shutter.set_operating_mode('Single')\n",
    "shutter.set_cycle_params(19, 15, 1)\n",
    "\n",
    "# Cube ------------------------------------------------------------------------\n",
    "rotator = Thorlabs.KDC101(\"27001330\")\n",
    "print('Connected to {}'.format(rotator))\n",
    "\n",
    "# Thorlabs ELLO Rotator ------------------------------------------------------------------------\n",
    "ser = serial.Serial('COM4')\n",
    "print('ELLO rotator connected to {}'.format(ser.name)) \n",
    "\n",
    "# Functions for optics ------------------------------------------------------------------------\n",
    "\n",
    "def um(pos):\n",
    "    return pos*34.304\n",
    "\n",
    "def openShutter(power, filename):\n",
    "    shutter.set_operating_state('Active')\n",
    "    pulses_str = \"{}\\t{}\".format(time.time(), power)\n",
    "    with open(filename+'.pulses','a') as f: \n",
    "        f.write(pulses_str+\"\\n\")\n",
    "    time.sleep(0.1)\n",
    "    shutter.set_operating_state('Inactive')\n",
    "\n",
    "pump_calib = np.loadtxt('pumpPowerCalibration.dat')\n",
    "probe_calib = np.loadtxt('probePowerCalibration.dat')\n",
    "\n",
    "def MalusLaw(x, A, T, x0, off):\n",
    "    return A*np.cos(2*np.pi*(x-x0)/T+np.pi/2)**2+off\n",
    "\n",
    "def getIntensityPos(y, A, T, x0, off):\n",
    "    return (T*np.arcsin(np.sqrt((y-off)/A)))/(2*np.pi)+x0\n",
    "\n",
    "def readRot():\n",
    "    ser.flushInput()\n",
    "    ser.flushOutput()\n",
    "    ser.write(b'0gp')\n",
    "    r = ser.readline()\n",
    "    return int((r.rstrip()).decode(\"utf-8\")[3:], 16)\n",
    "\n",
    "def writeRot(val):\n",
    "    ser.flushInput()\n",
    "    ser.flushOutput()\n",
    "    w = '0ma'+format(val, 'X').zfill(8)\n",
    "    ser.write(w.encode(\"utf-8\"))\n",
    "\n",
    "pump_popt, _ = curve_fit(MalusLaw, pump_calib[:,0], pump_calib[:,1], p0 = [np.max(pump_calib[:,1]),  2*(pump_calib[-1,0]-pump_calib[0,0]), (pump_calib[-1,0]+pump_calib[0,0])/2,  0])\n",
    "probe_popt, _ = curve_fit(MalusLaw, probe_calib[:,0], probe_calib[:,1], p0 = [np.max(probe_calib[:,1]),  2*(probe_calib[-1,0]-probe_calib[0,0]), (probe_calib[-1,0]+probe_calib[0,0])/2,  0])\n",
    "\n",
    "def pumpPower(power):\n",
    "    power = power/1000 # z mW -> W \n",
    "    pos = getIntensityPos(power,*pump_popt)\n",
    "    rotator.move_to(pos)\n",
    "    rotator.wait_for_move()\n",
    "\n",
    "def probePower(power):\n",
    "    power = power/1000 # z mW -> W \n",
    "    pos = getIntensityPos(power,*probe_popt)\n",
    "    writeRot(int(pos))\n",
    "    time.sleep(0.5) \n",
    "      \n",
    "def read_T():\n",
    "    lakeshore.query(\"CRDG?\")\n",
    "    return(float(lakeshore.query(\"CRDG?\")))\n",
    "\n",
    "\n",
    "# main ------------------------------------------------------------------------\n",
    "def run(filename, delta_t = 0.1, spike_window = 30):\n",
    "\n",
    "    #spike_window = 30\n",
    "    #delta_t = 0.1\n",
    "    #filename = r\"D:/P074n35/test1\"\n",
    "    \n",
    "    sched = BackgroundScheduler()\n",
    "    t0 = datetime.now()\n",
    "    t_shift = timedelta(seconds=3)\n",
    "    logging.info('Power dependence measurement started at {}'.format(t0))\n",
    "    \n",
    "    #pulses = [0.11, 0.5, 1, 1.5, 2, 2.5]+np.round(np.arange(3,5,0.05), 2).tolist()\n",
    "    pulses = np.round(np.arange(3,60,1), 2).tolist()\n",
    "    #pulses = [28]\n",
    "   \n",
    "    try:\n",
    "        t_i = t0+timedelta(seconds=1)\n",
    "        for p in pulses:\n",
    "            for _ in range(1):\n",
    "                sched.add_job(probePower, 'date', run_date=(t_i), args=[p])\n",
    "                sched.add_job(openShutter, 'date', run_date=(t_i + t_shift), args=[p, filename])\n",
    "                t_i = t_i + timedelta(seconds=15)\n",
    "        \n",
    "        sched.start()\n",
    "    \n",
    "        i=0\n",
    "        Measure = True\n",
    "        Spike = False\n",
    "        afterSpike = 30 # in s; mer jeste {afterSpike} sekund po spiku\n",
    "        \n",
    "        \n",
    "        instKSM.query(\":READ?\")\n",
    "        time.sleep(0.2)\n",
    "        measurement = np.zeros([1, 5])\n",
    "        while Measure:\n",
    "            \n",
    "            r0 = time.time()\n",
    "            r = instKSM.query(\":READ?\")\n",
    "            r1 = float(r[0:13]) ### voltage\n",
    "            r2 = float(r[14:27]) ### current\n",
    "            r3 = float(instKMM.query(\"DATA?\"))\n",
    "            r4 = read_T()\n",
    "            \n",
    "            resstr = \"{}\\t{:.8e}\\t{:.8e}\\t{:.8e}\\t{:.8e}\".format(r0,r1,r2,r3,r4)\n",
    "            measurement = np.append(measurement, [[r0,r1,r2,r3,r4]], axis=0)\n",
    "            with open(filename+'.dat','a') as f: \n",
    "                f.write(resstr+\"\\n\")\n",
    "            \n",
    "            # Detekce Spiku:\n",
    "            if len(measurement) > spike_window:\n",
    "                R4 = measurement[:,3]/ measurement[:,2]\n",
    "                R4 = R4[-28:]\n",
    "                R_max = np.max(R4)\n",
    "                R_min = np.min(R4)\n",
    "                R_avg = np.average(R4)\n",
    "                signal = 100*(R_max-R_min)/(R_avg)\n",
    "                #print(\"Spike: {} %\".format(signal))\n",
    "                if np.absolute(signal) > 0.5 and not Spike:\n",
    "                    sched.remove_all_jobs()\n",
    "                    print('Spike was detected, next pulses halted')\n",
    "                    logging.info('Spike was detected, next pulses halted')\n",
    "                    Spike = True\n",
    "            if Spike or len(sched.get_jobs())==0:\n",
    "                afterSpike = afterSpike-delta_t\n",
    "                print(\"spike:\", afterSpike)\n",
    "            if afterSpike<0:\n",
    "                Measure = False\n",
    "                print('Finished to measure last pulse')\n",
    "                logging.info('Finished to measure last pulse')\n",
    "                    \n",
    "            # jednak zapisovani do file, ale taky do pole -> vzit okno z konce pole mensi nez vzdalenost mezi pulzy\n",
    "            # measurement[0:zacatek] -> prumer => offset odporu\n",
    "            # measurement[okno na konci] -> (max-min)/offset => velikost signalu v procentech\n",
    "            # pokud presahne nejakou mez -> zastav\n",
    "            time.sleep(delta_t)\n",
    "        # precist pulses.pul a zjistit (pred)posledni a ten vzit jako zapisovaci\n",
    "        sched.shutdown()\n",
    "        shutter.close()\n",
    "        rotator.close()\n",
    "        ser.close()\n",
    "    except (KeyboardInterrupt, SystemExit):\n",
    "        # Not strictly necessary if daemonic mode is enabled but should be done if possible\n",
    "        sched.shutdown()\n",
    "        shutter.close()\n",
    "        rotator.close()\n",
    "        ser.close()"
   ]
  },
  {
   "cell_type": "code",
   "execution_count": 2,
   "metadata": {
    "scrolled": true
   },
   "outputs": [
    {
     "name": "stderr",
     "output_type": "stream",
     "text": [
      "C:\\Users\\TeraLab\\anaconda3\\lib\\site-packages\\ipykernel_launcher.py:172: RuntimeWarning: invalid value encountered in true_divide\n"
     ]
    },
    {
     "name": "stdout",
     "output_type": "stream",
     "text": [
      "Spike was detected, next pulses halted\n",
      "spike: 29.9\n",
      "spike: 29.799999999999997\n",
      "spike: 29.699999999999996\n",
      "spike: 29.599999999999994\n",
      "spike: 29.499999999999993\n",
      "spike: 29.39999999999999\n",
      "spike: 29.29999999999999\n",
      "spike: 29.19999999999999\n",
      "spike: 29.099999999999987\n",
      "spike: 28.999999999999986\n",
      "spike: 28.899999999999984\n",
      "spike: 28.799999999999983\n",
      "spike: 28.69999999999998\n",
      "spike: 28.59999999999998\n",
      "spike: 28.49999999999998\n",
      "spike: 28.399999999999977\n",
      "spike: 28.299999999999976\n",
      "spike: 28.199999999999974\n",
      "spike: 28.099999999999973\n",
      "spike: 27.99999999999997\n",
      "spike: 27.89999999999997\n",
      "spike: 27.79999999999997\n",
      "spike: 27.699999999999967\n",
      "spike: 27.599999999999966\n",
      "spike: 27.499999999999964\n",
      "spike: 27.399999999999963\n",
      "spike: 27.29999999999996\n",
      "spike: 27.19999999999996\n",
      "spike: 27.09999999999996\n",
      "spike: 26.999999999999957\n",
      "spike: 26.899999999999956\n",
      "spike: 26.799999999999955\n",
      "spike: 26.699999999999953\n",
      "spike: 26.59999999999995\n",
      "spike: 26.49999999999995\n",
      "spike: 26.39999999999995\n",
      "spike: 26.299999999999947\n",
      "spike: 26.199999999999946\n",
      "spike: 26.099999999999945\n",
      "spike: 25.999999999999943\n",
      "spike: 25.89999999999994\n",
      "spike: 25.79999999999994\n",
      "spike: 25.69999999999994\n",
      "spike: 25.599999999999937\n",
      "spike: 25.499999999999936\n",
      "spike: 25.399999999999935\n",
      "spike: 25.299999999999933\n",
      "spike: 25.199999999999932\n",
      "spike: 25.09999999999993\n",
      "spike: 24.99999999999993\n",
      "spike: 24.899999999999928\n",
      "spike: 24.799999999999926\n",
      "spike: 24.699999999999925\n",
      "spike: 24.599999999999923\n",
      "spike: 24.499999999999922\n",
      "spike: 24.39999999999992\n",
      "spike: 24.29999999999992\n",
      "spike: 24.199999999999918\n",
      "spike: 24.099999999999916\n",
      "spike: 23.999999999999915\n",
      "spike: 23.899999999999913\n",
      "spike: 23.799999999999912\n",
      "spike: 23.69999999999991\n",
      "spike: 23.59999999999991\n",
      "spike: 23.499999999999908\n",
      "spike: 23.399999999999906\n",
      "spike: 23.299999999999905\n",
      "spike: 23.199999999999903\n",
      "spike: 23.099999999999902\n",
      "spike: 22.9999999999999\n",
      "spike: 22.8999999999999\n",
      "spike: 22.799999999999898\n",
      "spike: 22.699999999999896\n",
      "spike: 22.599999999999895\n",
      "spike: 22.499999999999893\n",
      "spike: 22.399999999999892\n",
      "spike: 22.29999999999989\n",
      "spike: 22.19999999999989\n",
      "spike: 22.099999999999888\n",
      "spike: 21.999999999999886\n",
      "spike: 21.899999999999885\n",
      "spike: 21.799999999999883\n",
      "spike: 21.699999999999882\n",
      "spike: 21.59999999999988\n",
      "spike: 21.49999999999988\n",
      "spike: 21.399999999999878\n",
      "spike: 21.299999999999876\n",
      "spike: 21.199999999999875\n",
      "spike: 21.099999999999874\n",
      "spike: 20.999999999999872\n",
      "spike: 20.89999999999987\n",
      "spike: 20.79999999999987\n",
      "spike: 20.699999999999868\n",
      "spike: 20.599999999999866\n",
      "spike: 20.499999999999865\n",
      "spike: 20.399999999999864\n",
      "spike: 20.299999999999862\n",
      "spike: 20.19999999999986\n",
      "spike: 20.09999999999986\n",
      "spike: 19.999999999999858\n",
      "spike: 19.899999999999856\n",
      "spike: 19.799999999999855\n",
      "spike: 19.699999999999854\n",
      "spike: 19.599999999999852\n",
      "spike: 19.49999999999985\n",
      "spike: 19.39999999999985\n",
      "spike: 19.299999999999848\n",
      "spike: 19.199999999999847\n",
      "spike: 19.099999999999845\n",
      "spike: 18.999999999999844\n",
      "spike: 18.899999999999842\n",
      "spike: 18.79999999999984\n",
      "spike: 18.69999999999984\n",
      "spike: 18.599999999999838\n",
      "spike: 18.499999999999837\n",
      "spike: 18.399999999999835\n",
      "spike: 18.299999999999834\n",
      "spike: 18.199999999999832\n",
      "spike: 18.09999999999983\n",
      "spike: 17.99999999999983\n",
      "spike: 17.899999999999828\n",
      "spike: 17.799999999999827\n",
      "spike: 17.699999999999825\n",
      "spike: 17.599999999999824\n",
      "spike: 17.499999999999822\n",
      "spike: 17.39999999999982\n",
      "spike: 17.29999999999982\n",
      "spike: 17.199999999999818\n",
      "spike: 17.099999999999817\n",
      "spike: 16.999999999999815\n",
      "spike: 16.899999999999814\n",
      "spike: 16.799999999999812\n",
      "spike: 16.69999999999981\n",
      "spike: 16.59999999999981\n",
      "spike: 16.499999999999808\n",
      "spike: 16.399999999999807\n",
      "spike: 16.299999999999805\n",
      "spike: 16.199999999999804\n",
      "spike: 16.099999999999802\n",
      "spike: 15.999999999999803\n",
      "spike: 15.899999999999803\n",
      "spike: 15.799999999999804\n",
      "spike: 15.699999999999804\n",
      "spike: 15.599999999999804\n",
      "spike: 15.499999999999805\n",
      "spike: 15.399999999999805\n",
      "spike: 15.299999999999805\n",
      "spike: 15.199999999999806\n",
      "spike: 15.099999999999806\n",
      "spike: 14.999999999999806\n",
      "spike: 14.899999999999807\n",
      "spike: 14.799999999999807\n",
      "spike: 14.699999999999807\n",
      "spike: 14.599999999999808\n",
      "spike: 14.499999999999808\n",
      "spike: 14.399999999999809\n",
      "spike: 14.299999999999809\n",
      "spike: 14.19999999999981\n",
      "spike: 14.09999999999981\n",
      "spike: 13.99999999999981\n",
      "spike: 13.89999999999981\n",
      "spike: 13.79999999999981\n",
      "spike: 13.699999999999811\n",
      "spike: 13.599999999999811\n",
      "spike: 13.499999999999812\n",
      "spike: 13.399999999999812\n",
      "spike: 13.299999999999812\n",
      "spike: 13.199999999999813\n",
      "spike: 13.099999999999813\n",
      "spike: 12.999999999999813\n",
      "spike: 12.899999999999814\n",
      "spike: 12.799999999999814\n",
      "spike: 12.699999999999815\n",
      "spike: 12.599999999999815\n",
      "spike: 12.499999999999815\n",
      "spike: 12.399999999999816\n",
      "spike: 12.299999999999816\n",
      "spike: 12.199999999999816\n",
      "spike: 12.099999999999817\n",
      "spike: 11.999999999999817\n",
      "spike: 11.899999999999817\n",
      "spike: 11.799999999999818\n",
      "spike: 11.699999999999818\n",
      "spike: 11.599999999999818\n",
      "spike: 11.499999999999819\n",
      "spike: 11.39999999999982\n",
      "spike: 11.29999999999982\n",
      "spike: 11.19999999999982\n",
      "spike: 11.09999999999982\n",
      "spike: 10.99999999999982\n",
      "spike: 10.899999999999821\n",
      "spike: 10.799999999999821\n",
      "spike: 10.699999999999822\n",
      "spike: 10.599999999999822\n",
      "spike: 10.499999999999822\n",
      "spike: 10.399999999999823\n",
      "spike: 10.299999999999823\n",
      "spike: 10.199999999999823\n",
      "spike: 10.099999999999824\n",
      "spike: 9.999999999999824\n",
      "spike: 9.899999999999824\n",
      "spike: 9.799999999999825\n",
      "spike: 9.699999999999825\n",
      "spike: 9.599999999999826\n",
      "spike: 9.499999999999826\n",
      "spike: 9.399999999999826\n",
      "spike: 9.299999999999827\n",
      "spike: 9.199999999999827\n",
      "spike: 9.099999999999827\n",
      "spike: 8.999999999999828\n",
      "spike: 8.899999999999828\n",
      "spike: 8.799999999999828\n",
      "spike: 8.699999999999829\n",
      "spike: 8.59999999999983\n",
      "spike: 8.49999999999983\n",
      "spike: 8.39999999999983\n",
      "spike: 8.29999999999983\n",
      "spike: 8.19999999999983\n",
      "spike: 8.099999999999831\n",
      "spike: 7.999999999999831\n",
      "spike: 7.899999999999832\n",
      "spike: 7.799999999999832\n",
      "spike: 7.699999999999832\n",
      "spike: 7.599999999999833\n",
      "spike: 7.499999999999833\n",
      "spike: 7.399999999999833\n",
      "spike: 7.299999999999834\n",
      "spike: 7.199999999999834\n",
      "spike: 7.099999999999834\n",
      "spike: 6.999999999999835\n",
      "spike: 6.899999999999835\n",
      "spike: 6.7999999999998355\n",
      "spike: 6.699999999999836\n",
      "spike: 6.599999999999836\n",
      "spike: 6.499999999999837\n",
      "spike: 6.399999999999837\n",
      "spike: 6.299999999999837\n",
      "spike: 6.199999999999838\n",
      "spike: 6.099999999999838\n",
      "spike: 5.999999999999838\n",
      "spike: 5.899999999999839\n",
      "spike: 5.799999999999839\n",
      "spike: 5.699999999999839\n",
      "spike: 5.59999999999984\n",
      "spike: 5.49999999999984\n",
      "spike: 5.3999999999998405\n",
      "spike: 5.299999999999841\n",
      "spike: 5.199999999999841\n",
      "spike: 5.0999999999998415\n",
      "spike: 4.999999999999842\n",
      "spike: 4.899999999999842\n",
      "spike: 4.799999999999843\n",
      "spike: 4.699999999999843\n",
      "spike: 4.599999999999843\n",
      "spike: 4.499999999999844\n",
      "spike: 4.399999999999844\n",
      "spike: 4.299999999999844\n",
      "spike: 4.199999999999845\n",
      "spike: 4.099999999999845\n",
      "spike: 3.999999999999845\n",
      "spike: 3.899999999999845\n",
      "spike: 3.799999999999845\n",
      "spike: 3.6999999999998447\n",
      "spike: 3.5999999999998447\n",
      "spike: 3.4999999999998446\n",
      "spike: 3.3999999999998445\n",
      "spike: 3.2999999999998444\n",
      "spike: 3.1999999999998443\n",
      "spike: 3.099999999999844\n",
      "spike: 2.999999999999844\n",
      "spike: 2.899999999999844\n",
      "spike: 2.799999999999844\n",
      "spike: 2.699999999999844\n",
      "spike: 2.5999999999998438\n",
      "spike: 2.4999999999998437\n",
      "spike: 2.3999999999998436\n",
      "spike: 2.2999999999998435\n",
      "spike: 2.1999999999998434\n",
      "spike: 2.0999999999998433\n",
      "spike: 1.9999999999998432\n",
      "spike: 1.8999999999998431\n",
      "spike: 1.799999999999843\n",
      "spike: 1.699999999999843\n",
      "spike: 1.5999999999998429\n",
      "spike: 1.4999999999998428\n",
      "spike: 1.3999999999998427\n",
      "spike: 1.2999999999998426\n",
      "spike: 1.1999999999998425\n",
      "spike: 1.0999999999998424\n",
      "spike: 0.9999999999998425\n",
      "spike: 0.8999999999998425\n",
      "spike: 0.7999999999998425\n",
      "spike: 0.6999999999998425\n",
      "spike: 0.5999999999998425\n",
      "spike: 0.49999999999984257\n",
      "spike: 0.3999999999998426\n",
      "spike: 0.2999999999998426\n",
      "spike: 0.1999999999998426\n",
      "spike: 0.0999999999998426\n",
      "spike: -1.5740186931623157e-13\n",
      "Finished to measure last pulse\n"
     ]
    }
   ],
   "source": [
    "spike_window = 30\n",
    "delta_t = 0.1\n",
    "filename = r\"D:/P074n42/data/P074n42G1_Aa1\"\n",
    "run(filename)"
   ]
  },
  {
   "cell_type": "code",
   "execution_count": 1,
   "metadata": {},
   "outputs": [
    {
     "ename": "NameError",
     "evalue": "name 'np' is not defined",
     "output_type": "error",
     "traceback": [
      "\u001b[1;31m---------------------------------------------------------------------------\u001b[0m",
      "\u001b[1;31mNameError\u001b[0m                                 Traceback (most recent call last)",
      "\u001b[1;32m<ipython-input-1-91eae02528fc>\u001b[0m in \u001b[0;36m<module>\u001b[1;34m\u001b[0m\n\u001b[1;32m----> 1\u001b[1;33m \u001b[0mmeasurement\u001b[0m \u001b[1;33m=\u001b[0m \u001b[0mnp\u001b[0m\u001b[1;33m.\u001b[0m\u001b[0mzeros\u001b[0m\u001b[1;33m(\u001b[0m\u001b[1;33m[\u001b[0m\u001b[1;36m1\u001b[0m\u001b[1;33m,\u001b[0m \u001b[1;36m5\u001b[0m\u001b[1;33m]\u001b[0m\u001b[1;33m)\u001b[0m\u001b[1;33m\u001b[0m\u001b[1;33m\u001b[0m\u001b[0m\n\u001b[0m\u001b[0;32m      2\u001b[0m \u001b[1;32mfor\u001b[0m \u001b[0mi\u001b[0m \u001b[1;32min\u001b[0m \u001b[0mrange\u001b[0m\u001b[1;33m(\u001b[0m\u001b[1;36m10\u001b[0m\u001b[1;33m)\u001b[0m\u001b[1;33m:\u001b[0m\u001b[1;33m\u001b[0m\u001b[1;33m\u001b[0m\u001b[0m\n\u001b[0;32m      3\u001b[0m     \u001b[0mmeasurement\u001b[0m \u001b[1;33m=\u001b[0m \u001b[0mnp\u001b[0m\u001b[1;33m.\u001b[0m\u001b[0mappend\u001b[0m\u001b[1;33m(\u001b[0m\u001b[0mmeasurement\u001b[0m\u001b[1;33m,\u001b[0m \u001b[1;33m[\u001b[0m\u001b[1;33m[\u001b[0m\u001b[0mi\u001b[0m\u001b[1;33m,\u001b[0m\u001b[0mi\u001b[0m\u001b[1;33m*\u001b[0m\u001b[0mi\u001b[0m\u001b[1;33m,\u001b[0m\u001b[0mi\u001b[0m\u001b[1;33m+\u001b[0m\u001b[1;36m2\u001b[0m\u001b[1;33m,\u001b[0m\u001b[0mi\u001b[0m\u001b[1;33m,\u001b[0m\u001b[0mi\u001b[0m\u001b[1;33m]\u001b[0m\u001b[1;33m]\u001b[0m\u001b[1;33m,\u001b[0m \u001b[0maxis\u001b[0m\u001b[1;33m=\u001b[0m\u001b[1;36m0\u001b[0m\u001b[1;33m)\u001b[0m\u001b[1;33m\u001b[0m\u001b[1;33m\u001b[0m\u001b[0m\n\u001b[0;32m      4\u001b[0m \u001b[0mlen\u001b[0m\u001b[1;33m(\u001b[0m\u001b[0mmeasurement\u001b[0m\u001b[1;33m)\u001b[0m\u001b[1;33m\u001b[0m\u001b[1;33m\u001b[0m\u001b[0m\n",
      "\u001b[1;31mNameError\u001b[0m: name 'np' is not defined"
     ]
    }
   ],
   "source": [
    "measurement = np.zeros([1, 5])\n",
    "for i in range(10):\n",
    "    measurement = np.append(measurement, [[i,i*i,i+2,i,i]], axis=0)\n",
    "len(measurement)"
   ]
  },
  {
   "cell_type": "code",
   "execution_count": 3,
   "metadata": {},
   "outputs": [],
   "source": [
    "shutter.set_operating_mode('Single')\n",
    "shutter.set_cycle_params(100, 15, 1)\n",
    "shutter.set_operating_state('Active')"
   ]
  },
  {
   "cell_type": "code",
   "execution_count": 18,
   "metadata": {},
   "outputs": [],
   "source": [
    "shutter.set_operating_mode('Manual')\n",
    "shutter.set_operating_state('Active')"
   ]
  },
  {
   "cell_type": "code",
   "execution_count": 4,
   "metadata": {},
   "outputs": [],
   "source": [
    "probePower(5)\n",
    "pumpPower(5)"
   ]
  },
  {
   "cell_type": "code",
   "execution_count": 10,
   "metadata": {},
   "outputs": [],
   "source": [
    "shutter.set_operating_state('Inactive')"
   ]
  },
  {
   "cell_type": "code",
   "execution_count": 2,
   "metadata": {},
   "outputs": [],
   "source": []
  },
  {
   "cell_type": "code",
   "execution_count": 4,
   "metadata": {},
   "outputs": [],
   "source": [
    "#pumpPower(3)\n",
    "shutter.set_operating_mode('Manual')\n",
    "shutter.set_operating_state('Active')\n"
   ]
  },
  {
   "cell_type": "code",
   "execution_count": 5,
   "metadata": {},
   "outputs": [],
   "source": [
    "probePower(100)\n",
    "pumpPower(100)\n",
    "shutter.set_operating_mode('Single')\n",
    "shutter.set_cycle_params(100, 15, 1)\n",
    "shutter.set_operating_state('Active')"
   ]
  },
  {
   "cell_type": "code",
   "execution_count": 11,
   "metadata": {},
   "outputs": [
    {
     "ename": "NameError",
     "evalue": "name 'setPower' is not defined",
     "output_type": "error",
     "traceback": [
      "\u001b[1;31m---------------------------------------------------------------------------\u001b[0m",
      "\u001b[1;31mNameError\u001b[0m                                 Traceback (most recent call last)",
      "\u001b[1;32m<ipython-input-11-d3d832749770>\u001b[0m in \u001b[0;36m<module>\u001b[1;34m\u001b[0m\n\u001b[0;32m      1\u001b[0m \u001b[1;31m# (0.3 -> 62) mW\u001b[0m\u001b[1;33m\u001b[0m\u001b[1;33m\u001b[0m\u001b[1;33m\u001b[0m\u001b[0m\n\u001b[1;32m----> 2\u001b[1;33m \u001b[0msetPower\u001b[0m\u001b[1;33m(\u001b[0m\u001b[1;36m5\u001b[0m\u001b[1;33m)\u001b[0m\u001b[1;33m\u001b[0m\u001b[1;33m\u001b[0m\u001b[0m\n\u001b[0m\u001b[0;32m      3\u001b[0m \u001b[1;31m#rotator.get_position()\u001b[0m\u001b[1;33m\u001b[0m\u001b[1;33m\u001b[0m\u001b[1;33m\u001b[0m\u001b[0m\n",
      "\u001b[1;31mNameError\u001b[0m: name 'setPower' is not defined"
     ]
    }
   ],
   "source": [
    "# (0.3 -> 62) mW\n",
    "setPower(5)\n",
    "#rotator.get_position()"
   ]
  },
  {
   "cell_type": "code",
   "execution_count": 3,
   "metadata": {},
   "outputs": [],
   "source": [
    "#shutter.set_operating_state('Inactive')\n",
    "shutter.set_operating_state('Active')"
   ]
  },
  {
   "cell_type": "code",
   "execution_count": 21,
   "metadata": {},
   "outputs": [
    {
     "name": "stderr",
     "output_type": "stream",
     "text": [
      "100%|██████████████████████████████████████████████████████████████████████████████████| 14/14 [01:19<00:00,  5.69s/it]\n"
     ]
    },
    {
     "data": {
      "application/vnd.plotly.v1+json": {
       "config": {
        "plotlyServerURL": "https://plot.ly"
       },
       "data": [
        {
         "mode": "markers",
         "name": "markers",
         "type": "scatter",
         "x": [
          3,
          3.5,
          4,
          4.5,
          5,
          5.5,
          6,
          6.5,
          7,
          7.5,
          8,
          8.5,
          9,
          9.5
         ],
         "y": [
          -0.000633243,
          -0.000793461,
          -0.000900272,
          -0.00100709,
          -0.00106049,
          -0.00118256,
          -0.00125886,
          -0.00139619,
          -0.00141145,
          -0.00152589,
          -0.00162507,
          -0.00167847,
          -0.00175477,
          -0.00178529
         ]
        }
       ],
       "layout": {
        "template": {
         "data": {
          "bar": [
           {
            "error_x": {
             "color": "#2a3f5f"
            },
            "error_y": {
             "color": "#2a3f5f"
            },
            "marker": {
             "line": {
              "color": "#E5ECF6",
              "width": 0.5
             }
            },
            "type": "bar"
           }
          ],
          "barpolar": [
           {
            "marker": {
             "line": {
              "color": "#E5ECF6",
              "width": 0.5
             }
            },
            "type": "barpolar"
           }
          ],
          "carpet": [
           {
            "aaxis": {
             "endlinecolor": "#2a3f5f",
             "gridcolor": "white",
             "linecolor": "white",
             "minorgridcolor": "white",
             "startlinecolor": "#2a3f5f"
            },
            "baxis": {
             "endlinecolor": "#2a3f5f",
             "gridcolor": "white",
             "linecolor": "white",
             "minorgridcolor": "white",
             "startlinecolor": "#2a3f5f"
            },
            "type": "carpet"
           }
          ],
          "choropleth": [
           {
            "colorbar": {
             "outlinewidth": 0,
             "ticks": ""
            },
            "type": "choropleth"
           }
          ],
          "contour": [
           {
            "colorbar": {
             "outlinewidth": 0,
             "ticks": ""
            },
            "colorscale": [
             [
              0,
              "#0d0887"
             ],
             [
              0.1111111111111111,
              "#46039f"
             ],
             [
              0.2222222222222222,
              "#7201a8"
             ],
             [
              0.3333333333333333,
              "#9c179e"
             ],
             [
              0.4444444444444444,
              "#bd3786"
             ],
             [
              0.5555555555555556,
              "#d8576b"
             ],
             [
              0.6666666666666666,
              "#ed7953"
             ],
             [
              0.7777777777777778,
              "#fb9f3a"
             ],
             [
              0.8888888888888888,
              "#fdca26"
             ],
             [
              1,
              "#f0f921"
             ]
            ],
            "type": "contour"
           }
          ],
          "contourcarpet": [
           {
            "colorbar": {
             "outlinewidth": 0,
             "ticks": ""
            },
            "type": "contourcarpet"
           }
          ],
          "heatmap": [
           {
            "colorbar": {
             "outlinewidth": 0,
             "ticks": ""
            },
            "colorscale": [
             [
              0,
              "#0d0887"
             ],
             [
              0.1111111111111111,
              "#46039f"
             ],
             [
              0.2222222222222222,
              "#7201a8"
             ],
             [
              0.3333333333333333,
              "#9c179e"
             ],
             [
              0.4444444444444444,
              "#bd3786"
             ],
             [
              0.5555555555555556,
              "#d8576b"
             ],
             [
              0.6666666666666666,
              "#ed7953"
             ],
             [
              0.7777777777777778,
              "#fb9f3a"
             ],
             [
              0.8888888888888888,
              "#fdca26"
             ],
             [
              1,
              "#f0f921"
             ]
            ],
            "type": "heatmap"
           }
          ],
          "heatmapgl": [
           {
            "colorbar": {
             "outlinewidth": 0,
             "ticks": ""
            },
            "colorscale": [
             [
              0,
              "#0d0887"
             ],
             [
              0.1111111111111111,
              "#46039f"
             ],
             [
              0.2222222222222222,
              "#7201a8"
             ],
             [
              0.3333333333333333,
              "#9c179e"
             ],
             [
              0.4444444444444444,
              "#bd3786"
             ],
             [
              0.5555555555555556,
              "#d8576b"
             ],
             [
              0.6666666666666666,
              "#ed7953"
             ],
             [
              0.7777777777777778,
              "#fb9f3a"
             ],
             [
              0.8888888888888888,
              "#fdca26"
             ],
             [
              1,
              "#f0f921"
             ]
            ],
            "type": "heatmapgl"
           }
          ],
          "histogram": [
           {
            "marker": {
             "colorbar": {
              "outlinewidth": 0,
              "ticks": ""
             }
            },
            "type": "histogram"
           }
          ],
          "histogram2d": [
           {
            "colorbar": {
             "outlinewidth": 0,
             "ticks": ""
            },
            "colorscale": [
             [
              0,
              "#0d0887"
             ],
             [
              0.1111111111111111,
              "#46039f"
             ],
             [
              0.2222222222222222,
              "#7201a8"
             ],
             [
              0.3333333333333333,
              "#9c179e"
             ],
             [
              0.4444444444444444,
              "#bd3786"
             ],
             [
              0.5555555555555556,
              "#d8576b"
             ],
             [
              0.6666666666666666,
              "#ed7953"
             ],
             [
              0.7777777777777778,
              "#fb9f3a"
             ],
             [
              0.8888888888888888,
              "#fdca26"
             ],
             [
              1,
              "#f0f921"
             ]
            ],
            "type": "histogram2d"
           }
          ],
          "histogram2dcontour": [
           {
            "colorbar": {
             "outlinewidth": 0,
             "ticks": ""
            },
            "colorscale": [
             [
              0,
              "#0d0887"
             ],
             [
              0.1111111111111111,
              "#46039f"
             ],
             [
              0.2222222222222222,
              "#7201a8"
             ],
             [
              0.3333333333333333,
              "#9c179e"
             ],
             [
              0.4444444444444444,
              "#bd3786"
             ],
             [
              0.5555555555555556,
              "#d8576b"
             ],
             [
              0.6666666666666666,
              "#ed7953"
             ],
             [
              0.7777777777777778,
              "#fb9f3a"
             ],
             [
              0.8888888888888888,
              "#fdca26"
             ],
             [
              1,
              "#f0f921"
             ]
            ],
            "type": "histogram2dcontour"
           }
          ],
          "mesh3d": [
           {
            "colorbar": {
             "outlinewidth": 0,
             "ticks": ""
            },
            "type": "mesh3d"
           }
          ],
          "parcoords": [
           {
            "line": {
             "colorbar": {
              "outlinewidth": 0,
              "ticks": ""
             }
            },
            "type": "parcoords"
           }
          ],
          "pie": [
           {
            "automargin": true,
            "type": "pie"
           }
          ],
          "scatter": [
           {
            "marker": {
             "colorbar": {
              "outlinewidth": 0,
              "ticks": ""
             }
            },
            "type": "scatter"
           }
          ],
          "scatter3d": [
           {
            "line": {
             "colorbar": {
              "outlinewidth": 0,
              "ticks": ""
             }
            },
            "marker": {
             "colorbar": {
              "outlinewidth": 0,
              "ticks": ""
             }
            },
            "type": "scatter3d"
           }
          ],
          "scattercarpet": [
           {
            "marker": {
             "colorbar": {
              "outlinewidth": 0,
              "ticks": ""
             }
            },
            "type": "scattercarpet"
           }
          ],
          "scattergeo": [
           {
            "marker": {
             "colorbar": {
              "outlinewidth": 0,
              "ticks": ""
             }
            },
            "type": "scattergeo"
           }
          ],
          "scattergl": [
           {
            "marker": {
             "colorbar": {
              "outlinewidth": 0,
              "ticks": ""
             }
            },
            "type": "scattergl"
           }
          ],
          "scattermapbox": [
           {
            "marker": {
             "colorbar": {
              "outlinewidth": 0,
              "ticks": ""
             }
            },
            "type": "scattermapbox"
           }
          ],
          "scatterpolar": [
           {
            "marker": {
             "colorbar": {
              "outlinewidth": 0,
              "ticks": ""
             }
            },
            "type": "scatterpolar"
           }
          ],
          "scatterpolargl": [
           {
            "marker": {
             "colorbar": {
              "outlinewidth": 0,
              "ticks": ""
             }
            },
            "type": "scatterpolargl"
           }
          ],
          "scatterternary": [
           {
            "marker": {
             "colorbar": {
              "outlinewidth": 0,
              "ticks": ""
             }
            },
            "type": "scatterternary"
           }
          ],
          "surface": [
           {
            "colorbar": {
             "outlinewidth": 0,
             "ticks": ""
            },
            "colorscale": [
             [
              0,
              "#0d0887"
             ],
             [
              0.1111111111111111,
              "#46039f"
             ],
             [
              0.2222222222222222,
              "#7201a8"
             ],
             [
              0.3333333333333333,
              "#9c179e"
             ],
             [
              0.4444444444444444,
              "#bd3786"
             ],
             [
              0.5555555555555556,
              "#d8576b"
             ],
             [
              0.6666666666666666,
              "#ed7953"
             ],
             [
              0.7777777777777778,
              "#fb9f3a"
             ],
             [
              0.8888888888888888,
              "#fdca26"
             ],
             [
              1,
              "#f0f921"
             ]
            ],
            "type": "surface"
           }
          ],
          "table": [
           {
            "cells": {
             "fill": {
              "color": "#EBF0F8"
             },
             "line": {
              "color": "white"
             }
            },
            "header": {
             "fill": {
              "color": "#C8D4E3"
             },
             "line": {
              "color": "white"
             }
            },
            "type": "table"
           }
          ]
         },
         "layout": {
          "annotationdefaults": {
           "arrowcolor": "#2a3f5f",
           "arrowhead": 0,
           "arrowwidth": 1
          },
          "coloraxis": {
           "colorbar": {
            "outlinewidth": 0,
            "ticks": ""
           }
          },
          "colorscale": {
           "diverging": [
            [
             0,
             "#8e0152"
            ],
            [
             0.1,
             "#c51b7d"
            ],
            [
             0.2,
             "#de77ae"
            ],
            [
             0.3,
             "#f1b6da"
            ],
            [
             0.4,
             "#fde0ef"
            ],
            [
             0.5,
             "#f7f7f7"
            ],
            [
             0.6,
             "#e6f5d0"
            ],
            [
             0.7,
             "#b8e186"
            ],
            [
             0.8,
             "#7fbc41"
            ],
            [
             0.9,
             "#4d9221"
            ],
            [
             1,
             "#276419"
            ]
           ],
           "sequential": [
            [
             0,
             "#0d0887"
            ],
            [
             0.1111111111111111,
             "#46039f"
            ],
            [
             0.2222222222222222,
             "#7201a8"
            ],
            [
             0.3333333333333333,
             "#9c179e"
            ],
            [
             0.4444444444444444,
             "#bd3786"
            ],
            [
             0.5555555555555556,
             "#d8576b"
            ],
            [
             0.6666666666666666,
             "#ed7953"
            ],
            [
             0.7777777777777778,
             "#fb9f3a"
            ],
            [
             0.8888888888888888,
             "#fdca26"
            ],
            [
             1,
             "#f0f921"
            ]
           ],
           "sequentialminus": [
            [
             0,
             "#0d0887"
            ],
            [
             0.1111111111111111,
             "#46039f"
            ],
            [
             0.2222222222222222,
             "#7201a8"
            ],
            [
             0.3333333333333333,
             "#9c179e"
            ],
            [
             0.4444444444444444,
             "#bd3786"
            ],
            [
             0.5555555555555556,
             "#d8576b"
            ],
            [
             0.6666666666666666,
             "#ed7953"
            ],
            [
             0.7777777777777778,
             "#fb9f3a"
            ],
            [
             0.8888888888888888,
             "#fdca26"
            ],
            [
             1,
             "#f0f921"
            ]
           ]
          },
          "colorway": [
           "#636efa",
           "#EF553B",
           "#00cc96",
           "#ab63fa",
           "#FFA15A",
           "#19d3f3",
           "#FF6692",
           "#B6E880",
           "#FF97FF",
           "#FECB52"
          ],
          "font": {
           "color": "#2a3f5f"
          },
          "geo": {
           "bgcolor": "white",
           "lakecolor": "white",
           "landcolor": "#E5ECF6",
           "showlakes": true,
           "showland": true,
           "subunitcolor": "white"
          },
          "hoverlabel": {
           "align": "left"
          },
          "hovermode": "closest",
          "mapbox": {
           "style": "light"
          },
          "paper_bgcolor": "white",
          "plot_bgcolor": "#E5ECF6",
          "polar": {
           "angularaxis": {
            "gridcolor": "white",
            "linecolor": "white",
            "ticks": ""
           },
           "bgcolor": "#E5ECF6",
           "radialaxis": {
            "gridcolor": "white",
            "linecolor": "white",
            "ticks": ""
           }
          },
          "scene": {
           "xaxis": {
            "backgroundcolor": "#E5ECF6",
            "gridcolor": "white",
            "gridwidth": 2,
            "linecolor": "white",
            "showbackground": true,
            "ticks": "",
            "zerolinecolor": "white"
           },
           "yaxis": {
            "backgroundcolor": "#E5ECF6",
            "gridcolor": "white",
            "gridwidth": 2,
            "linecolor": "white",
            "showbackground": true,
            "ticks": "",
            "zerolinecolor": "white"
           },
           "zaxis": {
            "backgroundcolor": "#E5ECF6",
            "gridcolor": "white",
            "gridwidth": 2,
            "linecolor": "white",
            "showbackground": true,
            "ticks": "",
            "zerolinecolor": "white"
           }
          },
          "shapedefaults": {
           "line": {
            "color": "#2a3f5f"
           }
          },
          "ternary": {
           "aaxis": {
            "gridcolor": "white",
            "linecolor": "white",
            "ticks": ""
           },
           "baxis": {
            "gridcolor": "white",
            "linecolor": "white",
            "ticks": ""
           },
           "bgcolor": "#E5ECF6",
           "caxis": {
            "gridcolor": "white",
            "linecolor": "white",
            "ticks": ""
           }
          },
          "title": {
           "x": 0.05
          },
          "xaxis": {
           "automargin": true,
           "gridcolor": "white",
           "linecolor": "white",
           "ticks": "",
           "title": {
            "standoff": 15
           },
           "zerolinecolor": "white",
           "zerolinewidth": 2
          },
          "yaxis": {
           "automargin": true,
           "gridcolor": "white",
           "linecolor": "white",
           "ticks": "",
           "title": {
            "standoff": 15
           },
           "zerolinecolor": "white",
           "zerolinewidth": 2
          }
         }
        }
       }
      },
      "text/html": [
       "<div>\n",
       "        \n",
       "        \n",
       "            <div id=\"31d5acd9-9a2c-44e3-a95e-0b734ac29ada\" class=\"plotly-graph-div\" style=\"height:525px; width:100%;\"></div>\n",
       "            <script type=\"text/javascript\">\n",
       "                require([\"plotly\"], function(Plotly) {\n",
       "                    window.PLOTLYENV=window.PLOTLYENV || {};\n",
       "                    \n",
       "                if (document.getElementById(\"31d5acd9-9a2c-44e3-a95e-0b734ac29ada\")) {\n",
       "                    Plotly.newPlot(\n",
       "                        '31d5acd9-9a2c-44e3-a95e-0b734ac29ada',\n",
       "                        [{\"mode\": \"markers\", \"name\": \"markers\", \"type\": \"scatter\", \"x\": [3.0, 3.5, 4.0, 4.5, 5.0, 5.5, 6.0, 6.5, 7.0, 7.5, 8.0, 8.5, 9.0, 9.5], \"y\": [-0.000633243, -0.000793461, -0.000900272, -0.00100709, -0.00106049, -0.00118256, -0.00125886, -0.00139619, -0.00141145, -0.00152589, -0.00162507, -0.00167847, -0.00175477, -0.00178529]}],\n",
       "                        {\"template\": {\"data\": {\"bar\": [{\"error_x\": {\"color\": \"#2a3f5f\"}, \"error_y\": {\"color\": \"#2a3f5f\"}, \"marker\": {\"line\": {\"color\": \"#E5ECF6\", \"width\": 0.5}}, \"type\": \"bar\"}], \"barpolar\": [{\"marker\": {\"line\": {\"color\": \"#E5ECF6\", \"width\": 0.5}}, \"type\": \"barpolar\"}], \"carpet\": [{\"aaxis\": {\"endlinecolor\": \"#2a3f5f\", \"gridcolor\": \"white\", \"linecolor\": \"white\", \"minorgridcolor\": \"white\", \"startlinecolor\": \"#2a3f5f\"}, \"baxis\": {\"endlinecolor\": \"#2a3f5f\", \"gridcolor\": \"white\", \"linecolor\": \"white\", \"minorgridcolor\": \"white\", \"startlinecolor\": \"#2a3f5f\"}, \"type\": \"carpet\"}], \"choropleth\": [{\"colorbar\": {\"outlinewidth\": 0, \"ticks\": \"\"}, \"type\": \"choropleth\"}], \"contour\": [{\"colorbar\": {\"outlinewidth\": 0, \"ticks\": \"\"}, \"colorscale\": [[0.0, \"#0d0887\"], [0.1111111111111111, \"#46039f\"], [0.2222222222222222, \"#7201a8\"], [0.3333333333333333, \"#9c179e\"], [0.4444444444444444, \"#bd3786\"], [0.5555555555555556, \"#d8576b\"], [0.6666666666666666, \"#ed7953\"], [0.7777777777777778, \"#fb9f3a\"], [0.8888888888888888, \"#fdca26\"], [1.0, \"#f0f921\"]], \"type\": \"contour\"}], \"contourcarpet\": [{\"colorbar\": {\"outlinewidth\": 0, \"ticks\": \"\"}, \"type\": \"contourcarpet\"}], \"heatmap\": [{\"colorbar\": {\"outlinewidth\": 0, \"ticks\": \"\"}, \"colorscale\": [[0.0, \"#0d0887\"], [0.1111111111111111, \"#46039f\"], [0.2222222222222222, \"#7201a8\"], [0.3333333333333333, \"#9c179e\"], [0.4444444444444444, \"#bd3786\"], [0.5555555555555556, \"#d8576b\"], [0.6666666666666666, \"#ed7953\"], [0.7777777777777778, \"#fb9f3a\"], [0.8888888888888888, \"#fdca26\"], [1.0, \"#f0f921\"]], \"type\": \"heatmap\"}], \"heatmapgl\": [{\"colorbar\": {\"outlinewidth\": 0, \"ticks\": \"\"}, \"colorscale\": [[0.0, \"#0d0887\"], [0.1111111111111111, \"#46039f\"], [0.2222222222222222, \"#7201a8\"], [0.3333333333333333, \"#9c179e\"], [0.4444444444444444, \"#bd3786\"], [0.5555555555555556, \"#d8576b\"], [0.6666666666666666, \"#ed7953\"], [0.7777777777777778, \"#fb9f3a\"], [0.8888888888888888, \"#fdca26\"], [1.0, \"#f0f921\"]], \"type\": \"heatmapgl\"}], \"histogram\": [{\"marker\": {\"colorbar\": {\"outlinewidth\": 0, \"ticks\": \"\"}}, \"type\": \"histogram\"}], \"histogram2d\": [{\"colorbar\": {\"outlinewidth\": 0, \"ticks\": \"\"}, \"colorscale\": [[0.0, \"#0d0887\"], [0.1111111111111111, \"#46039f\"], [0.2222222222222222, \"#7201a8\"], [0.3333333333333333, \"#9c179e\"], [0.4444444444444444, \"#bd3786\"], [0.5555555555555556, \"#d8576b\"], [0.6666666666666666, \"#ed7953\"], [0.7777777777777778, \"#fb9f3a\"], [0.8888888888888888, \"#fdca26\"], [1.0, \"#f0f921\"]], \"type\": \"histogram2d\"}], \"histogram2dcontour\": [{\"colorbar\": {\"outlinewidth\": 0, \"ticks\": \"\"}, \"colorscale\": [[0.0, \"#0d0887\"], [0.1111111111111111, \"#46039f\"], [0.2222222222222222, \"#7201a8\"], [0.3333333333333333, \"#9c179e\"], [0.4444444444444444, \"#bd3786\"], [0.5555555555555556, \"#d8576b\"], [0.6666666666666666, \"#ed7953\"], [0.7777777777777778, \"#fb9f3a\"], [0.8888888888888888, \"#fdca26\"], [1.0, \"#f0f921\"]], \"type\": \"histogram2dcontour\"}], \"mesh3d\": [{\"colorbar\": {\"outlinewidth\": 0, \"ticks\": \"\"}, \"type\": \"mesh3d\"}], \"parcoords\": [{\"line\": {\"colorbar\": {\"outlinewidth\": 0, \"ticks\": \"\"}}, \"type\": \"parcoords\"}], \"pie\": [{\"automargin\": true, \"type\": \"pie\"}], \"scatter\": [{\"marker\": {\"colorbar\": {\"outlinewidth\": 0, \"ticks\": \"\"}}, \"type\": \"scatter\"}], \"scatter3d\": [{\"line\": {\"colorbar\": {\"outlinewidth\": 0, \"ticks\": \"\"}}, \"marker\": {\"colorbar\": {\"outlinewidth\": 0, \"ticks\": \"\"}}, \"type\": \"scatter3d\"}], \"scattercarpet\": [{\"marker\": {\"colorbar\": {\"outlinewidth\": 0, \"ticks\": \"\"}}, \"type\": \"scattercarpet\"}], \"scattergeo\": [{\"marker\": {\"colorbar\": {\"outlinewidth\": 0, \"ticks\": \"\"}}, \"type\": \"scattergeo\"}], \"scattergl\": [{\"marker\": {\"colorbar\": {\"outlinewidth\": 0, \"ticks\": \"\"}}, \"type\": \"scattergl\"}], \"scattermapbox\": [{\"marker\": {\"colorbar\": {\"outlinewidth\": 0, \"ticks\": \"\"}}, \"type\": \"scattermapbox\"}], \"scatterpolar\": [{\"marker\": {\"colorbar\": {\"outlinewidth\": 0, \"ticks\": \"\"}}, \"type\": \"scatterpolar\"}], \"scatterpolargl\": [{\"marker\": {\"colorbar\": {\"outlinewidth\": 0, \"ticks\": \"\"}}, \"type\": \"scatterpolargl\"}], \"scatterternary\": [{\"marker\": {\"colorbar\": {\"outlinewidth\": 0, \"ticks\": \"\"}}, \"type\": \"scatterternary\"}], \"surface\": [{\"colorbar\": {\"outlinewidth\": 0, \"ticks\": \"\"}, \"colorscale\": [[0.0, \"#0d0887\"], [0.1111111111111111, \"#46039f\"], [0.2222222222222222, \"#7201a8\"], [0.3333333333333333, \"#9c179e\"], [0.4444444444444444, \"#bd3786\"], [0.5555555555555556, \"#d8576b\"], [0.6666666666666666, \"#ed7953\"], [0.7777777777777778, \"#fb9f3a\"], [0.8888888888888888, \"#fdca26\"], [1.0, \"#f0f921\"]], \"type\": \"surface\"}], \"table\": [{\"cells\": {\"fill\": {\"color\": \"#EBF0F8\"}, \"line\": {\"color\": \"white\"}}, \"header\": {\"fill\": {\"color\": \"#C8D4E3\"}, \"line\": {\"color\": \"white\"}}, \"type\": \"table\"}]}, \"layout\": {\"annotationdefaults\": {\"arrowcolor\": \"#2a3f5f\", \"arrowhead\": 0, \"arrowwidth\": 1}, \"coloraxis\": {\"colorbar\": {\"outlinewidth\": 0, \"ticks\": \"\"}}, \"colorscale\": {\"diverging\": [[0, \"#8e0152\"], [0.1, \"#c51b7d\"], [0.2, \"#de77ae\"], [0.3, \"#f1b6da\"], [0.4, \"#fde0ef\"], [0.5, \"#f7f7f7\"], [0.6, \"#e6f5d0\"], [0.7, \"#b8e186\"], [0.8, \"#7fbc41\"], [0.9, \"#4d9221\"], [1, \"#276419\"]], \"sequential\": [[0.0, \"#0d0887\"], [0.1111111111111111, \"#46039f\"], [0.2222222222222222, \"#7201a8\"], [0.3333333333333333, \"#9c179e\"], [0.4444444444444444, \"#bd3786\"], [0.5555555555555556, \"#d8576b\"], [0.6666666666666666, \"#ed7953\"], [0.7777777777777778, \"#fb9f3a\"], [0.8888888888888888, \"#fdca26\"], [1.0, \"#f0f921\"]], \"sequentialminus\": [[0.0, \"#0d0887\"], [0.1111111111111111, \"#46039f\"], [0.2222222222222222, \"#7201a8\"], [0.3333333333333333, \"#9c179e\"], [0.4444444444444444, \"#bd3786\"], [0.5555555555555556, \"#d8576b\"], [0.6666666666666666, \"#ed7953\"], [0.7777777777777778, \"#fb9f3a\"], [0.8888888888888888, \"#fdca26\"], [1.0, \"#f0f921\"]]}, \"colorway\": [\"#636efa\", \"#EF553B\", \"#00cc96\", \"#ab63fa\", \"#FFA15A\", \"#19d3f3\", \"#FF6692\", \"#B6E880\", \"#FF97FF\", \"#FECB52\"], \"font\": {\"color\": \"#2a3f5f\"}, \"geo\": {\"bgcolor\": \"white\", \"lakecolor\": \"white\", \"landcolor\": \"#E5ECF6\", \"showlakes\": true, \"showland\": true, \"subunitcolor\": \"white\"}, \"hoverlabel\": {\"align\": \"left\"}, \"hovermode\": \"closest\", \"mapbox\": {\"style\": \"light\"}, \"paper_bgcolor\": \"white\", \"plot_bgcolor\": \"#E5ECF6\", \"polar\": {\"angularaxis\": {\"gridcolor\": \"white\", \"linecolor\": \"white\", \"ticks\": \"\"}, \"bgcolor\": \"#E5ECF6\", \"radialaxis\": {\"gridcolor\": \"white\", \"linecolor\": \"white\", \"ticks\": \"\"}}, \"scene\": {\"xaxis\": {\"backgroundcolor\": \"#E5ECF6\", \"gridcolor\": \"white\", \"gridwidth\": 2, \"linecolor\": \"white\", \"showbackground\": true, \"ticks\": \"\", \"zerolinecolor\": \"white\"}, \"yaxis\": {\"backgroundcolor\": \"#E5ECF6\", \"gridcolor\": \"white\", \"gridwidth\": 2, \"linecolor\": \"white\", \"showbackground\": true, \"ticks\": \"\", \"zerolinecolor\": \"white\"}, \"zaxis\": {\"backgroundcolor\": \"#E5ECF6\", \"gridcolor\": \"white\", \"gridwidth\": 2, \"linecolor\": \"white\", \"showbackground\": true, \"ticks\": \"\", \"zerolinecolor\": \"white\"}}, \"shapedefaults\": {\"line\": {\"color\": \"#2a3f5f\"}}, \"ternary\": {\"aaxis\": {\"gridcolor\": \"white\", \"linecolor\": \"white\", \"ticks\": \"\"}, \"baxis\": {\"gridcolor\": \"white\", \"linecolor\": \"white\", \"ticks\": \"\"}, \"bgcolor\": \"#E5ECF6\", \"caxis\": {\"gridcolor\": \"white\", \"linecolor\": \"white\", \"ticks\": \"\"}}, \"title\": {\"x\": 0.05}, \"xaxis\": {\"automargin\": true, \"gridcolor\": \"white\", \"linecolor\": \"white\", \"ticks\": \"\", \"title\": {\"standoff\": 15}, \"zerolinecolor\": \"white\", \"zerolinewidth\": 2}, \"yaxis\": {\"automargin\": true, \"gridcolor\": \"white\", \"linecolor\": \"white\", \"ticks\": \"\", \"title\": {\"standoff\": 15}, \"zerolinecolor\": \"white\", \"zerolinewidth\": 2}}}},\n",
       "                        {\"responsive\": true}\n",
       "                    ).then(function(){\n",
       "                            \n",
       "var gd = document.getElementById('31d5acd9-9a2c-44e3-a95e-0b734ac29ada');\n",
       "var x = new MutationObserver(function (mutations, observer) {{\n",
       "        var display = window.getComputedStyle(gd).display;\n",
       "        if (!display || display === 'none') {{\n",
       "            console.log([gd, 'removed!']);\n",
       "            Plotly.purge(gd);\n",
       "            observer.disconnect();\n",
       "        }}\n",
       "}});\n",
       "\n",
       "// Listen for the removal of the full notebook cells\n",
       "var notebookContainer = gd.closest('#notebook-container');\n",
       "if (notebookContainer) {{\n",
       "    x.observe(notebookContainer, {childList: true});\n",
       "}}\n",
       "\n",
       "// Listen for the clearing of the current output cell\n",
       "var outputEl = gd.closest('.output');\n",
       "if (outputEl) {{\n",
       "    x.observe(outputEl, {childList: true});\n",
       "}}\n",
       "\n",
       "                        })\n",
       "                };\n",
       "                });\n",
       "            </script>\n",
       "        </div>"
      ]
     },
     "metadata": {},
     "output_type": "display_data"
    }
   ],
   "source": [
    "import matplotlib\n",
    "import matplotlib.pyplot as plt\n",
    "import time\n",
    "from pymeasure.instruments.srs import SR830\n",
    "import plotly.graph_objects as go\n",
    "from tqdm import tqdm\n",
    "\n",
    "%matplotlib inline\n",
    "lockin = SR830(\"GPIB::8\")\n",
    "\n",
    "measurement = []\n",
    "\n",
    "setPower(5)\n",
    "time.sleep(5)\n",
    "\n",
    "shutter.set_operating_mode('Manual')\n",
    "shutter.set_operating_state('Active')\n",
    "\n",
    "powers = np.arange(3,10,0.5)\n",
    "for p in tqdm(powers):\n",
    "    setPower(p)\n",
    "    time.sleep(5)\n",
    "    measurement.append([p,lockin.x])\n",
    "    \n",
    "shutter.set_operating_state('Inactive')\n",
    "\n",
    "measurement= np.array(measurement)\n",
    "filename = r\"D:/P074n36D/P074n36D1_Ab3\"\n",
    "np.save(filename+'.npy', measurement) # saves measurement list\n",
    "\n",
    "\n",
    "fig = go.Figure()\n",
    "\n",
    "# Add traces\n",
    "fig.add_trace(go.Scatter(x=measurement[:,0], y=measurement[:,1],\n",
    "                    mode='markers',\n",
    "                    name='markers'))\n",
    "\n",
    "\n",
    "fig.show()"
   ]
  },
  {
   "cell_type": "code",
   "execution_count": 2,
   "metadata": {},
   "outputs": [
    {
     "data": {
      "text/plain": [
       "[1, 5, 10, 15, 20, 20, 21, 22, 23, 24, 25, 26, 27, 28, 29]"
      ]
     },
     "execution_count": 2,
     "metadata": {},
     "output_type": "execute_result"
    }
   ],
   "source": [
    "import numpy as np\n",
    "pole = ([1, 5, 10, 15, 20]+np.round(np.arange(20,30,1), 2).tolist())\n",
    "len(pole)\n",
    "pole"
   ]
  },
  {
   "cell_type": "code",
   "execution_count": 16,
   "metadata": {},
   "outputs": [
    {
     "name": "stdout",
     "output_type": "stream",
     "text": [
      "[1, 2, 3, 4, 5, 6, 7.0, 7.25, 7.5, 7.75, 8.0, 8.25, 8.5, 8.75, 9.0, 9.25, 9.5, 9.75, 10.0, 10.25, 10.5, 10.75, 11.0, 11.25, 11.5, 11.75, 12.0, 12.25, 12.5, 12.75, 13.0, 13.25, 13.5, 13.75, 14.0, 14.25, 14.5, 14.75, 15.0, 15.25, 15.5, 15.75, 16.0]\n"
     ]
    }
   ],
   "source": [
    "print([1,2,3,4,5,6]+[7+i*0.25 for i in range(4*9+1)])"
   ]
  },
  {
   "cell_type": "code",
   "execution_count": 20,
   "metadata": {},
   "outputs": [
    {
     "data": {
      "text/plain": [
       "4.3"
      ]
     },
     "execution_count": 20,
     "metadata": {},
     "output_type": "execute_result"
    }
   ],
   "source": [
    "pulses = [1, 2, 3, 4, 5, 6, 7.0, 7.25, 7.5, 7.75, 8.0, 8.25, 8.5, 8.75, 9.0, 9.25, 9.5, 9.75, 10.0, 10.25, 10.5, 10.75, 11.0, 11.25, 11.5, 11.75, 12.0, 12.25, 12.5, 12.75, 13.0, 13.25, 13.5, 13.75, 14.0, 14.25, 14.5, 14.75, 15.0, 15.25, 15.5, 15.75, 16.0]\n",
    "len(pulses)*6/60"
   ]
  },
  {
   "cell_type": "code",
   "execution_count": 10,
   "metadata": {},
   "outputs": [
    {
     "data": {
      "text/plain": [
       "[0.5, 1.0, 1.5, 2.0, 2.5, 3.0, 3.5, 4.0, 4.5, 5.0, 5.5]"
      ]
     },
     "execution_count": 10,
     "metadata": {},
     "output_type": "execute_result"
    }
   ],
   "source": [
    "pulses = np.round(np.arange(0.5,6,0.5), 2).tolist()\n",
    "pulses"
   ]
  },
  {
   "cell_type": "code",
   "execution_count": 2,
   "metadata": {},
   "outputs": [],
   "source": [
    "pumpPower(5)"
   ]
  },
  {
   "cell_type": "code",
   "execution_count": 7,
   "metadata": {},
   "outputs": [
    {
     "data": {
      "text/plain": [
       "45"
      ]
     },
     "execution_count": 7,
     "metadata": {},
     "output_type": "execute_result"
    }
   ],
   "source": [
    "len([1, 5, 10, 15, 20, 21, 22, 23, 24, 25, 26, 27, 28, 29, 30, 31, 32, 33, 34, 35, 36, 37, 38, 39, 40, 41, 42, 43, 44, 45, 46, 47, 48, 49, 50, 51, 52, 53, 54, 55, 56, 57, 58, 59, 60])\n",
    "#[1, 5, 10, 15, 20, 21, 22, 23, 24, 25, 26, 27, 28, 29, 30, 31, 32, 33, 34, 35, 36, 37, 38, 39, 40, 41, 42, 43, 44, 45, 46, 47, 48, 49, 50, 51, 52, 53, 54, 55, 56, 57, 58, 59, 60]"
   ]
  },
  {
   "cell_type": "code",
   "execution_count": 8,
   "metadata": {},
   "outputs": [
    {
     "name": "stdout",
     "output_type": "stream",
     "text": [
      "[1, 2, 3, 4, 5, 6, 7, 8, 9, 10, 11, 12, 13, 14, 15, 16, 17, 18, 19, 20]\n"
     ]
    }
   ],
   "source": [
    "print([i for i in range(1,21)])"
   ]
  },
  {
   "cell_type": "code",
   "execution_count": 11,
   "metadata": {},
   "outputs": [],
   "source": [
    "pulses = [1, 5, 10, 15]+[20, 21, 22, 23, 24, 25, 26, 27, 28, 29, 30, 31, 32, 33, 34, 35, 36, 37, 38, 39, 40, 41, 42, 43, 44, 45, 46, 47, 48, 49, 50, 51, 52, 53, 54, 55, 56, 57, 58, 59, 60, 61, 62, 63, 64, 65, 66, 67, 68, 69, 70, 71, 72, 73, 74, 75, 76, 77, 78, 79, 80]"
   ]
  },
  {
   "cell_type": "code",
   "execution_count": 10,
   "metadata": {},
   "outputs": [
    {
     "data": {
      "text/plain": [
       "4.583333333333333"
      ]
     },
     "execution_count": 10,
     "metadata": {},
     "output_type": "execute_result"
    }
   ],
   "source": [
    "len(pulzy)*5/60"
   ]
  },
  {
   "cell_type": "code",
   "execution_count": 4,
   "metadata": {},
   "outputs": [
    {
     "data": {
      "text/plain": [
       "5"
      ]
     },
     "execution_count": 4,
     "metadata": {},
     "output_type": "execute_result"
    }
   ],
   "source": [
    "np.absolute(-5)"
   ]
  },
  {
   "cell_type": "code",
   "execution_count": 4,
   "metadata": {},
   "outputs": [
    {
     "name": "stdout",
     "output_type": "stream",
     "text": [
      "[1, 5, 8, 9, 10.0, 10.25, 10.5, 10.75, 11.0, 11.25, 11.5, 11.75, 12.0, 12.25, 12.5, 12.75, 13.0, 13.25, 13.5, 13.75, 14.0, 14.25, 14.5, 14.75, 15.0, 15.25, 15.5, 15.75, 16.0, 16.25, 16.5, 16.75, 17.0, 17.25, 17.5, 17.75, 18.0, 18.25, 18.5, 18.75, 19.0, 19.25, 19.5, 19.75, 20.0]\n"
     ]
    }
   ],
   "source": [
    "pole = [1,5,8,9]+np.round(np.arange(10,20.25,0.25), 2).tolist()\n",
    "len(pole)*5/60\n",
    "print(pole)"
   ]
  },
  {
   "cell_type": "code",
   "execution_count": 28,
   "metadata": {},
   "outputs": [
    {
     "data": {
      "text/plain": [
       "[25,\n",
       " 26,\n",
       " 27,\n",
       " 28,\n",
       " 29,\n",
       " 30,\n",
       " 31,\n",
       " 32,\n",
       " 33,\n",
       " 34,\n",
       " 35,\n",
       " 36,\n",
       " 37,\n",
       " 38,\n",
       " 39,\n",
       " 40,\n",
       " 41,\n",
       " 42,\n",
       " 43,\n",
       " 44,\n",
       " 45,\n",
       " 46,\n",
       " 47,\n",
       " 48,\n",
       " 49,\n",
       " 50,\n",
       " 51,\n",
       " 52,\n",
       " 53,\n",
       " 54,\n",
       " 55,\n",
       " 56,\n",
       " 57,\n",
       " 58,\n",
       " 59,\n",
       " 60]"
      ]
     },
     "execution_count": 28,
     "metadata": {},
     "output_type": "execute_result"
    }
   ],
   "source": [
    "np.round(np.arange(25,61,1), 2).tolist()"
   ]
  },
  {
   "cell_type": "code",
   "execution_count": 6,
   "metadata": {},
   "outputs": [],
   "source": [
    "setPower(50)"
   ]
  },
  {
   "cell_type": "code",
   "execution_count": null,
   "metadata": {},
   "outputs": [],
   "source": [
    "def run(filename, delta_t = 0.1, spike_window = 30):\n",
    "\n",
    "   \n",
    "    logging.info('Power dependence measurement started at {}'.format(t0))\n",
    "    \n",
    "    \n",
    "    try:\n",
    "   \n",
    "        instKSM.query(\":READ?\")\n",
    "        time.sleep(0.2)\n",
    "        measurement = np.zeros([1, 5])\n",
    "        while Measure:\n",
    "            \n",
    "            r0 = time.time()\n",
    "            r = instKSM.query(\":READ?\")\n",
    "            r1 = float(r[0:13]) ### voltage\n",
    "            r2 = float(r[14:27]) ### current\n",
    "            r3 = float(instKMM.query(\"DATA?\"))\n",
    "            r4 = read_T()\n",
    "            \n",
    "            resstr = \"{}\\t{:.8e}\\t{:.8e}\\t{:.8e}\\t{:.8e}\".format(r0,r1,r2,r3,r4)\n",
    "            measurement = np.append(measurement, [[r0,r1,r2,r3,r4]], axis=0)\n",
    "            with open(filename+'.dat','a') as f: \n",
    "                f.write(resstr+\"\\n\")\n",
    "            \n",
    "            # Detekce Spiku:\n",
    "            if len(measurement) > spike_window:\n",
    "                R4 = measurement[:,3]/ measurement[:,2]\n",
    "                R4 = R4[-28:]\n",
    "                R_max = np.max(R4)\n",
    "                R_min = np.min(R4)\n",
    "                R_avg = np.average(R4)\n",
    "                signal = 100*(R_max-R_min)/(R_avg)\n",
    "                #print(\"Spike: {} %\".format(signal))\n",
    "                if np.absolute(signal) > 0.5 and not Spike:\n",
    "                    sched.remove_all_jobs()\n",
    "                    print('Spike was detected, next pulses halted')\n",
    "                    logging.info('Spike was detected, next pulses halted')\n",
    "                    Spike = True\n",
    "            if Spike or len(sched.get_jobs())==0:\n",
    "                afterSpike = afterSpike-delta_t\n",
    "                print(\"spike:\", afterSpike)\n",
    "            if afterSpike<0:\n",
    "                Measure = False\n",
    "                print('Finished to measure last pulse')\n",
    "                logging.info('Finished to measure last pulse')\n",
    "                    \n",
    "            # jednak zapisovani do file, ale taky do pole -> vzit okno z konce pole mensi nez vzdalenost mezi pulzy\n",
    "            # measurement[0:zacatek] -> prumer => offset odporu\n",
    "            # measurement[okno na konci] -> (max-min)/offset => velikost signalu v procentech\n",
    "            # pokud presahne nejakou mez -> zastav\n",
    "            time.sleep(delta_t)\n",
    "        # precist pulses.pul a zjistit (pred)posledni a ten vzit jako zapisovaci\n",
    "        sched.shutdown()\n",
    "        shutter.close()\n",
    "        rotator.close()\n",
    "    except (KeyboardInterrupt, SystemExit):\n",
    "        # Not strictly necessary if daemonic mode is enabled but should be done if possible\n",
    "        sched.shutdown()\n",
    "        shutter.close()\n",
    "        rotator.close()  "
   ]
  },
  {
   "cell_type": "code",
   "execution_count": 21,
   "metadata": {},
   "outputs": [],
   "source": []
  },
  {
   "cell_type": "code",
   "execution_count": 19,
   "metadata": {},
   "outputs": [],
   "source": [
    "probePower(100)\n",
    "\n",
    "shutter.set_cycle_params(10000, 15, 1)\n",
    "time.sleep(1)\n",
    "shutter.set_operating_state('Active')\n",
    "time.sleep(0.1)\n",
    "#shutter.set_operating_state('Inactive')"
   ]
  },
  {
   "cell_type": "code",
   "execution_count": 1,
   "metadata": {},
   "outputs": [
    {
     "name": "stdout",
     "output_type": "stream",
     "text": [
      "Collecting pylablib\n",
      "  Downloading pylablib-1.0.0-py3-none-any.whl (1.2 MB)\n",
      "Requirement already satisfied, skipping upgrade: websocket-client in c:\\users\\teralab\\anaconda3\\lib\\site-packages (from pylablib) (0.57.0)\n",
      "Requirement already satisfied, skipping upgrade: rpyc in c:\\users\\teralab\\anaconda3\\lib\\site-packages (from pylablib) (4.1.5)\n",
      "Requirement already satisfied, skipping upgrade: pyusb in c:\\users\\teralab\\anaconda3\\lib\\site-packages (from pylablib) (1.0.2)\n",
      "Requirement already satisfied, skipping upgrade: pyvisa in c:\\users\\teralab\\anaconda3\\lib\\site-packages (from pylablib) (1.10.1)\n",
      "Requirement already satisfied, skipping upgrade: pyserial in c:\\users\\teralab\\anaconda3\\lib\\site-packages (from pylablib) (3.4)\n",
      "Requirement already satisfied, skipping upgrade: pyqtgraph in c:\\users\\teralab\\anaconda3\\lib\\site-packages (from pylablib) (0.11.0)\n",
      "Requirement already satisfied, skipping upgrade: scipy in c:\\users\\teralab\\anaconda3\\lib\\site-packages (from pylablib) (1.4.1)\n",
      "Requirement already satisfied, skipping upgrade: pandas in c:\\users\\teralab\\anaconda3\\lib\\site-packages (from pylablib) (1.0.1)\n",
      "Requirement already satisfied, skipping upgrade: pyft232 in c:\\users\\teralab\\anaconda3\\lib\\site-packages (from pylablib) (0.12)\n",
      "Requirement already satisfied, skipping upgrade: numpy in c:\\users\\teralab\\anaconda3\\lib\\site-packages (from pylablib) (1.18.1)\n",
      "Requirement already satisfied, skipping upgrade: pyqt5 in c:\\users\\teralab\\anaconda3\\lib\\site-packages (from pylablib) (5.12.3)\n",
      "Requirement already satisfied, skipping upgrade: numba in c:\\users\\teralab\\anaconda3\\lib\\site-packages (from pylablib) (0.48.0)\n",
      "Requirement already satisfied, skipping upgrade: nidaqmx in c:\\users\\teralab\\anaconda3\\lib\\site-packages (from pylablib) (0.5.7)\n",
      "Requirement already satisfied, skipping upgrade: sip in c:\\users\\teralab\\anaconda3\\lib\\site-packages (from pylablib) (5.3.0)\n",
      "Requirement already satisfied, skipping upgrade: six in c:\\users\\teralab\\anaconda3\\lib\\site-packages (from websocket-client->pylablib) (1.14.0)\n",
      "Requirement already satisfied, skipping upgrade: plumbum in c:\\users\\teralab\\anaconda3\\lib\\site-packages (from rpyc->pylablib) (1.6.9)\n",
      "Requirement already satisfied, skipping upgrade: pytz>=2017.2 in c:\\users\\teralab\\anaconda3\\lib\\site-packages (from pandas->pylablib) (2019.3)\n",
      "Requirement already satisfied, skipping upgrade: python-dateutil>=2.6.1 in c:\\users\\teralab\\anaconda3\\lib\\site-packages (from pandas->pylablib) (2.8.1)\n",
      "Requirement already satisfied, skipping upgrade: PyQt5_sip<13,>=4.19.14 in c:\\users\\teralab\\anaconda3\\lib\\site-packages (from pyqt5->pylablib) (12.8.0)\n",
      "Requirement already satisfied, skipping upgrade: llvmlite<0.32.0,>=0.31.0dev0 in c:\\users\\teralab\\anaconda3\\lib\\site-packages (from numba->pylablib) (0.31.0)\n",
      "Requirement already satisfied, skipping upgrade: setuptools in c:\\users\\teralab\\anaconda3\\lib\\site-packages (from numba->pylablib) (45.2.0.post20200210)\n",
      "Requirement already satisfied, skipping upgrade: toml in c:\\users\\teralab\\anaconda3\\lib\\site-packages (from sip->pylablib) (0.10.1)\n",
      "Requirement already satisfied, skipping upgrade: packaging in c:\\users\\teralab\\anaconda3\\lib\\site-packages (from sip->pylablib) (20.1)\n",
      "Requirement already satisfied, skipping upgrade: pyparsing>=2.0.2 in c:\\users\\teralab\\anaconda3\\lib\\site-packages (from packaging->sip->pylablib) (2.4.6)\n",
      "Installing collected packages: pylablib\n",
      "  Attempting uninstall: pylablib\n",
      "    Found existing installation: pylablib 0.4.1\n",
      "    Uninstalling pylablib-0.4.1:\n",
      "      Successfully uninstalled pylablib-0.4.1\n",
      "Successfully installed pylablib-1.0.0\n",
      "Note: you may need to restart the kernel to use updated packages.\n"
     ]
    }
   ],
   "source": [
    "pip install --upgrade pylablib"
   ]
  },
  {
   "cell_type": "code",
   "execution_count": 3,
   "metadata": {},
   "outputs": [
    {
     "ename": "AttributeError",
     "evalue": "module 'pylablib.devices.Thorlabs' has no attribute 'KDC101'",
     "output_type": "error",
     "traceback": [
      "\u001b[1;31m---------------------------------------------------------------------------\u001b[0m",
      "\u001b[1;31mAttributeError\u001b[0m                            Traceback (most recent call last)",
      "\u001b[1;32m<ipython-input-3-dc82c3b81830>\u001b[0m in \u001b[0;36m<module>\u001b[1;34m\u001b[0m\n\u001b[0;32m      3\u001b[0m \u001b[1;33m\u001b[0m\u001b[0m\n\u001b[0;32m      4\u001b[0m \u001b[1;33m\u001b[0m\u001b[0m\n\u001b[1;32m----> 5\u001b[1;33m \u001b[1;32mwith\u001b[0m \u001b[0mThorlabs\u001b[0m\u001b[1;33m.\u001b[0m\u001b[0mKDC101\u001b[0m\u001b[1;33m(\u001b[0m\u001b[1;34m\"27001274\"\u001b[0m\u001b[1;33m)\u001b[0m \u001b[1;32mas\u001b[0m \u001b[0mstage\u001b[0m\u001b[1;33m:\u001b[0m\u001b[1;33m\u001b[0m\u001b[1;33m\u001b[0m\u001b[0m\n\u001b[0m\u001b[0;32m      6\u001b[0m     \u001b[0mprint\u001b[0m\u001b[1;33m(\u001b[0m\u001b[0mstage\u001b[0m\u001b[1;33m.\u001b[0m\u001b[0mget_position\u001b[0m\u001b[1;33m(\u001b[0m\u001b[1;33m)\u001b[0m\u001b[1;33m)\u001b[0m\u001b[1;33m\u001b[0m\u001b[1;33m\u001b[0m\u001b[0m\n",
      "\u001b[1;31mAttributeError\u001b[0m: module 'pylablib.devices.Thorlabs' has no attribute 'KDC101'"
     ]
    }
   ],
   "source": [
    "from pylablib.devices import Thorlabs\n",
    "\n",
    "\n",
    "\n",
    "with Thorlabs.KDC101(\"27001274\") as stage:\n",
    "    print(stage.get_position())"
   ]
  },
  {
   "cell_type": "code",
   "execution_count": 5,
   "metadata": {},
   "outputs": [
    {
     "ename": "AttributeError",
     "evalue": "module 'pylablib.core.devio.comm_backend' has no attribute 'FT232DeviceBackend'",
     "output_type": "error",
     "traceback": [
      "\u001b[1;31m---------------------------------------------------------------------------\u001b[0m",
      "\u001b[1;31mAttributeError\u001b[0m                            Traceback (most recent call last)",
      "\u001b[1;32m<ipython-input-5-901879401652>\u001b[0m in \u001b[0;36m<module>\u001b[1;34m\u001b[0m\n\u001b[0;32m      3\u001b[0m \u001b[1;33m\u001b[0m\u001b[0m\n\u001b[0;32m      4\u001b[0m \u001b[1;31m#with Thorlabs.KinesisMotor(\"27001274\") as stage:\u001b[0m\u001b[1;33m\u001b[0m\u001b[1;33m\u001b[0m\u001b[1;33m\u001b[0m\u001b[0m\n\u001b[1;32m----> 5\u001b[1;33m \u001b[0mThorlabs\u001b[0m\u001b[1;33m.\u001b[0m\u001b[0mlist_kinesis_devices\u001b[0m\u001b[1;33m(\u001b[0m\u001b[0mfilter_ids\u001b[0m\u001b[1;33m=\u001b[0m\u001b[1;32mTrue\u001b[0m\u001b[1;33m)\u001b[0m\u001b[1;33m\u001b[0m\u001b[1;33m\u001b[0m\u001b[0m\n\u001b[0m",
      "\u001b[1;32m~\\anaconda3\\lib\\site-packages\\pylablib\\devices\\Thorlabs\\kinesis.py\u001b[0m in \u001b[0;36mlist_kinesis_devices\u001b[1;34m(filter_ids)\u001b[0m\n\u001b[0;32m     23\u001b[0m         \u001b[0mOtherwise\u001b[0m\u001b[1;33m,\u001b[0m \u001b[0mshow\u001b[0m \u001b[0mall\u001b[0m \u001b[0mdevices\u001b[0m \u001b[1;33m(\u001b[0m\u001b[0msome\u001b[0m \u001b[0mof\u001b[0m \u001b[0mthem\u001b[0m \u001b[0mmight\u001b[0m \u001b[1;32mnot\u001b[0m \u001b[0mbe\u001b[0m \u001b[0mThorlabs\u001b[0m\u001b[1;33m-\u001b[0m\u001b[0mrelated\u001b[0m\u001b[1;33m)\u001b[0m\u001b[1;33m.\u001b[0m\u001b[1;33m\u001b[0m\u001b[1;33m\u001b[0m\u001b[0m\n\u001b[0;32m     24\u001b[0m     \"\"\"\n\u001b[1;32m---> 25\u001b[1;33m     \u001b[1;32mreturn\u001b[0m \u001b[0mKinesisDevice\u001b[0m\u001b[1;33m.\u001b[0m\u001b[0mlist_devices\u001b[0m\u001b[1;33m(\u001b[0m\u001b[0mfilter_ids\u001b[0m\u001b[1;33m=\u001b[0m\u001b[0mfilter_ids\u001b[0m\u001b[1;33m)\u001b[0m\u001b[1;33m\u001b[0m\u001b[1;33m\u001b[0m\u001b[0m\n\u001b[0m\u001b[0;32m     26\u001b[0m \u001b[1;33m\u001b[0m\u001b[0m\n\u001b[0;32m     27\u001b[0m \u001b[1;33m\u001b[0m\u001b[0m\n",
      "\u001b[1;32m~\\anaconda3\\lib\\site-packages\\pylablib\\devices\\Thorlabs\\kinesis.py\u001b[0m in \u001b[0;36mlist_devices\u001b[1;34m(filter_ids)\u001b[0m\n\u001b[0;32m     58\u001b[0m         \u001b[1;32mdef\u001b[0m \u001b[0m_is_thorlabs_id\u001b[0m\u001b[1;33m(\u001b[0m\u001b[0mdid\u001b[0m\u001b[1;33m)\u001b[0m\u001b[1;33m:\u001b[0m\u001b[1;33m\u001b[0m\u001b[1;33m\u001b[0m\u001b[0m\n\u001b[0;32m     59\u001b[0m             \u001b[1;32mreturn\u001b[0m \u001b[0mre\u001b[0m\u001b[1;33m.\u001b[0m\u001b[0mmatch\u001b[0m\u001b[1;33m(\u001b[0m\u001b[1;34mr\"^\\d{8}$\"\u001b[0m\u001b[1;33m,\u001b[0m\u001b[0mdid\u001b[0m\u001b[1;33m[\u001b[0m\u001b[1;36m0\u001b[0m\u001b[1;33m]\u001b[0m\u001b[1;33m)\u001b[0m \u001b[1;32mis\u001b[0m \u001b[1;32mnot\u001b[0m \u001b[1;32mNone\u001b[0m\u001b[1;33m\u001b[0m\u001b[1;33m\u001b[0m\u001b[0m\n\u001b[1;32m---> 60\u001b[1;33m         \u001b[0mdids\u001b[0m\u001b[1;33m=\u001b[0m\u001b[0mcomm_backend\u001b[0m\u001b[1;33m.\u001b[0m\u001b[0mFT232DeviceBackend\u001b[0m\u001b[1;33m.\u001b[0m\u001b[0mlist_resources\u001b[0m\u001b[1;33m(\u001b[0m\u001b[0mdesc\u001b[0m\u001b[1;33m=\u001b[0m\u001b[1;32mTrue\u001b[0m\u001b[1;33m)\u001b[0m\u001b[1;33m\u001b[0m\u001b[1;33m\u001b[0m\u001b[0m\n\u001b[0m\u001b[0;32m     61\u001b[0m         \u001b[1;32mif\u001b[0m \u001b[0mfilter_ids\u001b[0m\u001b[1;33m:\u001b[0m\u001b[1;33m\u001b[0m\u001b[1;33m\u001b[0m\u001b[0m\n\u001b[0;32m     62\u001b[0m             \u001b[0mids\u001b[0m\u001b[1;33m=\u001b[0m\u001b[1;33m[\u001b[0m\u001b[0mdid\u001b[0m \u001b[1;32mfor\u001b[0m \u001b[0mdid\u001b[0m \u001b[1;32min\u001b[0m \u001b[0mdids\u001b[0m \u001b[1;32mif\u001b[0m \u001b[0m_is_thorlabs_id\u001b[0m\u001b[1;33m(\u001b[0m\u001b[0mdid\u001b[0m\u001b[1;33m)\u001b[0m\u001b[1;33m]\u001b[0m\u001b[1;33m\u001b[0m\u001b[1;33m\u001b[0m\u001b[0m\n",
      "\u001b[1;31mAttributeError\u001b[0m: module 'pylablib.core.devio.comm_backend' has no attribute 'FT232DeviceBackend'"
     ]
    }
   ],
   "source": [
    "from pylablib.devices import Thorlabs\n",
    "\n",
    "\n",
    "#with Thorlabs.KinesisMotor(\"27001274\") as stage:\n",
    "Thorlabs.list_kinesis_devices(filter_ids=True)    "
   ]
  },
  {
   "cell_type": "code",
   "execution_count": null,
   "metadata": {},
   "outputs": [],
   "source": [
    "record = EquipmentRecord(\n",
    "    manufacturer='Thorlabs',\n",
    "    model='KDC101',\n",
    "    serial='27001274',  # update for your device\n",
    "    connection=ConnectionRecord(\n",
    "        backend=Backend.MSL,\n",
    "        address='SDK::Thorlabs.MotionControl.KCube.DCServo.dll',\n",
    "    ),\n",
    ")\n",
    "\n",
    "\n",
    "def wait():\n",
    "    motor.clear_message_queue()\n",
    "    while True:\n",
    "        status = motor.convert_message(*motor.wait_for_message())['id']\n",
    "        if status == 'Homed' or status == 'Moved':\n",
    "            break\n",
    "        position = motor.get_position()\n",
    "        real = motor.get_real_value_from_device_unit(position, 'DISTANCE')\n",
    "        print('  at position {} [device units] {:.3f} [real-world units]'.format(position, real))\n",
    "\n",
    "\n",
    "# avoid the FT_DeviceNotFound error\n",
    "MotionControl.build_device_list()\n",
    "\n",
    "# connect to the KCube DC Servo\n",
    "motor = record.connect()\n",
    "print('Connected to {}'.format(motor))\n",
    "\n",
    "# load the configuration settings, so that we can call\n",
    "# the get_real_value_from_device_unit() method\n",
    "motor.load_settings()\n",
    "\n",
    "# start polling at 200 ms\n",
    "motor.start_polling(200)\n",
    "\n",
    "# home the device\n",
    "print('Homing...')\n",
    "motor.home()\n",
    "wait()\n",
    "print('Homing done. At position {} [device units]'.format(motor.get_position()))\n",
    "\n",
    "# move to position 100000\n",
    "print('Moving to 100000...')\n",
    "motor.move_to_position(100000)\n",
    "wait()\n",
    "print('Moving done. At position {} [device units]'.format(motor.get_position()))\n",
    "\n",
    "# move by a relative amount of -5000\n",
    "print('Moving by -5000...')\n",
    "motor.move_relative(-5000)\n",
    "wait()\n",
    "print('Moving done. At position {} [device units]'.format(motor.get_position()))\n",
    "\n",
    "# jog forwards\n",
    "print('Jogging forwards by {} [device units]'.format(motor.get_jog_step_size()))\n",
    "motor.move_jog('Forwards')\n",
    "wait()\n",
    "print('Jogging done. At position {} [device units]'.format(motor.get_position()))\n",
    "\n",
    "# stop polling and close the connection\n",
    "motor.stop_polling()\n",
    "motor.disconnect()\n",
    "\n",
    "# you can access the default settings for the motor to pass to the set_*() methods\n",
    "print('\\nThe default motor settings are:')\n",
    "pprint(motor.settings)"
   ]
  },
  {
   "cell_type": "code",
   "execution_count": 1,
   "metadata": {},
   "outputs": [
    {
     "name": "stdout",
     "output_type": "stream",
     "text": [
      "Connected to KCubeDCServo<Thorlabs|KDC101|27001274>\n",
      "-1\n"
     ]
    }
   ],
   "source": [
    "import os\n",
    "\n",
    "from msl.equipment import EquipmentRecord, ConnectionRecord, Backend\n",
    "from msl.equipment.resources.thorlabs import MotionControl\n",
    "\n",
    "os.environ['PATH'] += os.pathsep + 'C:/Program Files/Thorlabs/Kinesis'\n",
    "\n",
    "record = EquipmentRecord(\n",
    "    manufacturer='Thorlabs',\n",
    "    model='KDC101',\n",
    "    serial='27001274',  # update for your device\n",
    "    connection=ConnectionRecord(\n",
    "        backend=Backend.MSL,\n",
    "        address='SDK::Thorlabs.MotionControl.KCube.DCServo.dll',\n",
    "    ),\n",
    ")\n",
    "\n",
    "def wait():\n",
    "    motor.clear_message_queue()\n",
    "    while True:\n",
    "        status = motor.convert_message(*motor.wait_for_message())['id']\n",
    "        if status == 'Homed' or status == 'Moved':\n",
    "            break\n",
    "        position = motor.get_position()\n",
    "        real = motor.get_real_value_from_device_unit(position, 'DISTANCE')\n",
    "        print('  at position {} [device units] {:.3f} [real-world units]'.format(position, real))\n",
    "\n",
    "MotionControl.build_device_list()\n",
    "\n",
    "motor = record.connect()\n",
    "print('Connected to {}'.format(motor))\n",
    "\n",
    "\n",
    "print(motor.get_position())"
   ]
  },
  {
   "cell_type": "code",
   "execution_count": 3,
   "metadata": {},
   "outputs": [
    {
     "name": "stdout",
     "output_type": "stream",
     "text": [
      "Moving by -5000...\n",
      "Moving done. At position 10105 [device units]\n"
     ]
    }
   ],
   "source": [
    "# move by a relative amount of -5000\n",
    "print('Moving by -5000...')\n",
    "motor.move_relative(10000)\n",
    "wait()\n",
    "print('Moving done. At position {} [device units]'.format(motor.get_position()))"
   ]
  },
  {
   "cell_type": "code",
   "execution_count": 3,
   "metadata": {},
   "outputs": [
    {
     "ename": "TypeError",
     "evalue": "get_device_info() missing 1 required positional argument: 'serial_number'",
     "output_type": "error",
     "traceback": [
      "\u001b[1;31m---------------------------------------------------------------------------\u001b[0m",
      "\u001b[1;31mTypeError\u001b[0m                                 Traceback (most recent call last)",
      "\u001b[1;32m<ipython-input-3-28f1f51c579e>\u001b[0m in \u001b[0;36m<module>\u001b[1;34m\u001b[0m\n\u001b[1;32m----> 1\u001b[1;33m \u001b[0mmotor\u001b[0m\u001b[1;33m.\u001b[0m\u001b[0mget_device_info\u001b[0m\u001b[1;33m(\u001b[0m\u001b[1;33m)\u001b[0m\u001b[1;33m\u001b[0m\u001b[1;33m\u001b[0m\u001b[0m\n\u001b[0m",
      "\u001b[1;31mTypeError\u001b[0m: get_device_info() missing 1 required positional argument: 'serial_number'"
     ]
    }
   ],
   "source": [
    "motor.get_device_info()"
   ]
  },
  {
   "cell_type": "code",
   "execution_count": 6,
   "metadata": {},
   "outputs": [
    {
     "data": {
      "text/plain": [
       "['Benchtop_Brushless_Motor',\n",
       " 'Benchtop_NanoTrak',\n",
       " 'Benchtop_Piezo_1_Channel',\n",
       " 'Benchtop_Piezo_3_Channel',\n",
       " 'Benchtop_Stepper_Motor_1_Channel',\n",
       " 'Benchtop_Stepper_Motor_3_Channel',\n",
       " 'Cage_Rotator',\n",
       " 'Filter_Flipper',\n",
       " 'Filter_Wheel',\n",
       " 'KCube_Brushless_Motor',\n",
       " 'KCube_DC_Servo',\n",
       " 'KCube_Inertial_Motor',\n",
       " 'KCube_LaserSource',\n",
       " 'KCube_NanoTrak',\n",
       " 'KCube_Piezo',\n",
       " 'KCube_Solenoid',\n",
       " 'KCube_Stepper_Motor',\n",
       " 'LabJack_050',\n",
       " 'LabJack_490',\n",
       " 'Long_Travel_Stage',\n",
       " 'Modular_NanoTrak',\n",
       " 'Modular_Piezo',\n",
       " 'Modular_Stepper_Motor',\n",
       " 'SERIAL_NUMBER_BUFFER_SIZE',\n",
       " 'TCube_Brushless_Motor',\n",
       " 'TCube_DC_Servo',\n",
       " 'TCube_Inertial_Motor',\n",
       " 'TCube_LaserDiode',\n",
       " 'TCube_LaserSource',\n",
       " 'TCube_NanoTrak',\n",
       " 'TCube_Quad',\n",
       " 'TCube_Solenoid',\n",
       " 'TCube_Stepper_Motor',\n",
       " 'TCube_Strain_Gauge',\n",
       " 'TCube_TEC',\n",
       " 'Vertical_Stage',\n",
       " '__class__',\n",
       " '__del__',\n",
       " '__delattr__',\n",
       " '__dict__',\n",
       " '__dir__',\n",
       " '__doc__',\n",
       " '__eq__',\n",
       " '__format__',\n",
       " '__ge__',\n",
       " '__getattribute__',\n",
       " '__gt__',\n",
       " '__hash__',\n",
       " '__init__',\n",
       " '__init_subclass__',\n",
       " '__le__',\n",
       " '__lt__',\n",
       " '__module__',\n",
       " '__ne__',\n",
       " '__new__',\n",
       " '__reduce__',\n",
       " '__reduce_ex__',\n",
       " '__repr__',\n",
       " '__setattr__',\n",
       " '__sizeof__',\n",
       " '__str__',\n",
       " '__subclasshook__',\n",
       " '__weakref__',\n",
       " '_assembly',\n",
       " '_exception_handler',\n",
       " '_gateway',\n",
       " '_get_hardware_info',\n",
       " '_is_open',\n",
       " '_lib',\n",
       " '_load_xml_settings',\n",
       " '_path',\n",
       " '_record',\n",
       " '_repr',\n",
       " '_sdk',\n",
       " '_serial',\n",
       " '_settings',\n",
       " '_str',\n",
       " 'assembly',\n",
       " 'build_device_list',\n",
       " 'can_device_lock_front_panel',\n",
       " 'can_home',\n",
       " 'can_move_without_homing_first',\n",
       " 'check_connection',\n",
       " 'clear_message_queue',\n",
       " 'close',\n",
       " 'convert_message',\n",
       " 'convert_to_enum',\n",
       " 'disable_channel',\n",
       " 'disconnect',\n",
       " 'enable_channel',\n",
       " 'enable_last_msg_timer',\n",
       " 'equipment_record',\n",
       " 'errcheck_api',\n",
       " 'errcheck_true',\n",
       " 'gateway',\n",
       " 'get_backlash',\n",
       " 'get_dcpid_params',\n",
       " 'get_device_info',\n",
       " 'get_device_list',\n",
       " 'get_device_list_size',\n",
       " 'get_device_unit_from_real_value',\n",
       " 'get_digital_outputs',\n",
       " 'get_encoder_counter',\n",
       " 'get_front_panel_locked',\n",
       " 'get_hardware_info',\n",
       " 'get_hardware_info_block',\n",
       " 'get_homing_params_block',\n",
       " 'get_homing_velocity',\n",
       " 'get_hub_bay',\n",
       " 'get_jog_mode',\n",
       " 'get_jog_params_block',\n",
       " 'get_jog_step_size',\n",
       " 'get_jog_vel_params',\n",
       " 'get_led_switches',\n",
       " 'get_limit_switch_params',\n",
       " 'get_limit_switch_params_block',\n",
       " 'get_mmi_params',\n",
       " 'get_mmi_params_block',\n",
       " 'get_mmi_params_ext',\n",
       " 'get_motor_params',\n",
       " 'get_motor_params_ext',\n",
       " 'get_motor_travel_limits',\n",
       " 'get_motor_travel_mode',\n",
       " 'get_motor_velocity_limits',\n",
       " 'get_move_absolute_position',\n",
       " 'get_move_relative_distance',\n",
       " 'get_next_message',\n",
       " 'get_number_positions',\n",
       " 'get_position',\n",
       " 'get_position_counter',\n",
       " 'get_real_value_from_device_unit',\n",
       " 'get_soft_limit_mode',\n",
       " 'get_software_version',\n",
       " 'get_stage_axis_max_pos',\n",
       " 'get_stage_axis_min_pos',\n",
       " 'get_status_bits',\n",
       " 'get_trigger_config_params',\n",
       " 'get_trigger_config_params_block',\n",
       " 'get_trigger_params_params',\n",
       " 'get_trigger_params_params_block',\n",
       " 'get_vel_params',\n",
       " 'get_vel_params_block',\n",
       " 'has_last_msg_timer_overrun',\n",
       " 'home',\n",
       " 'identify',\n",
       " 'load_named_settings',\n",
       " 'load_settings',\n",
       " 'log_critical',\n",
       " 'log_debug',\n",
       " 'log_errcheck',\n",
       " 'log_error',\n",
       " 'log_info',\n",
       " 'log_warning',\n",
       " 'message_queue_size',\n",
       " 'move_absolute',\n",
       " 'move_at_velocity',\n",
       " 'move_jog',\n",
       " 'move_relative',\n",
       " 'move_relative_distance',\n",
       " 'move_to_position',\n",
       " 'needs_homing',\n",
       " 'open',\n",
       " 'path',\n",
       " 'persist_settings',\n",
       " 'polling_duration',\n",
       " 'raise_exception',\n",
       " 'register_message_callback',\n",
       " 'request_backlash',\n",
       " 'request_dcpid_params',\n",
       " 'request_digital_outputs',\n",
       " 'request_encoder_counter',\n",
       " 'request_front_panel_locked',\n",
       " 'request_homing_params',\n",
       " 'request_jog_params',\n",
       " 'request_led_switches',\n",
       " 'request_limit_switch_params',\n",
       " 'request_mmi_params',\n",
       " 'request_move_absolute_position',\n",
       " 'request_move_relative_distance',\n",
       " 'request_pos_trigger_params',\n",
       " 'request_position',\n",
       " 'request_settings',\n",
       " 'request_status_bits',\n",
       " 'request_trigger_config_params',\n",
       " 'request_vel_params',\n",
       " 'reset_rotation_modes',\n",
       " 'reset_stage_to_defaults',\n",
       " 'resume_move_messages',\n",
       " 'sdk',\n",
       " 'set_backlash',\n",
       " 'set_dcpid_params',\n",
       " 'set_digital_outputs',\n",
       " 'set_direction',\n",
       " 'set_encoder_counter',\n",
       " 'set_exception_class',\n",
       " 'set_front_panel_lock',\n",
       " 'set_homing_params_block',\n",
       " 'set_homing_velocity',\n",
       " 'set_jog_mode',\n",
       " 'set_jog_params_block',\n",
       " 'set_jog_step_size',\n",
       " 'set_jog_vel_params',\n",
       " 'set_led_switches',\n",
       " 'set_limit_switch_params',\n",
       " 'set_limit_switch_params_block',\n",
       " 'set_limits_software_approach_policy',\n",
       " 'set_mmi_params',\n",
       " 'set_mmi_params_block',\n",
       " 'set_mmi_params_ext',\n",
       " 'set_motor_params',\n",
       " 'set_motor_params_ext',\n",
       " 'set_motor_travel_limits',\n",
       " 'set_motor_travel_mode',\n",
       " 'set_motor_velocity_limits',\n",
       " 'set_move_absolute_position',\n",
       " 'set_move_relative_distance',\n",
       " 'set_position_counter',\n",
       " 'set_rotation_modes',\n",
       " 'set_stage_axis_limits',\n",
       " 'set_trigger_config_params',\n",
       " 'set_trigger_config_params_block',\n",
       " 'set_trigger_params_params',\n",
       " 'set_trigger_params_params_block',\n",
       " 'set_vel_params',\n",
       " 'set_vel_params_block',\n",
       " 'settings',\n",
       " 'start_polling',\n",
       " 'stop_immediate',\n",
       " 'stop_polling',\n",
       " 'stop_profiled',\n",
       " 'suspend_move_messages',\n",
       " 'time_since_last_msg_received',\n",
       " 'to_version',\n",
       " 'wait_for_message']"
      ]
     },
     "execution_count": 6,
     "metadata": {},
     "output_type": "execute_result"
    }
   ],
   "source": [
    "dir(motor)"
   ]
  },
  {
   "cell_type": "code",
   "execution_count": 2,
   "metadata": {},
   "outputs": [],
   "source": [
    "motor.set_jog_mode(1,1)"
   ]
  },
  {
   "cell_type": "code",
   "execution_count": 2,
   "metadata": {},
   "outputs": [
    {
     "data": {
      "text/plain": [
       "(<MOT_JogModes.MOT_SingleStep: 2>, <MOT_StopModes.MOT_Profiled: 2>)"
      ]
     },
     "execution_count": 2,
     "metadata": {},
     "output_type": "execute_result"
    }
   ],
   "source": [
    "motor.get_jog_mode()"
   ]
  },
  {
   "cell_type": "code",
   "execution_count": 2,
   "metadata": {},
   "outputs": [
    {
     "ename": "ImportError",
     "evalue": "'aux_libs' module has been moved into 'legacy'; replace 'pylablib.aux_libs' with 'pylablib.legacy.aux_libs'",
     "output_type": "error",
     "traceback": [
      "\u001b[1;31m---------------------------------------------------------------------------\u001b[0m",
      "\u001b[1;31mImportError\u001b[0m                               Traceback (most recent call last)",
      "\u001b[1;32m<ipython-input-2-bfec366eaaec>\u001b[0m in \u001b[0;36m<module>\u001b[1;34m\u001b[0m\n\u001b[0;32m      1\u001b[0m \u001b[1;32mimport\u001b[0m \u001b[0mpylablib\u001b[0m \u001b[1;32mas\u001b[0m \u001b[0mpll\u001b[0m\u001b[1;33m\u001b[0m\u001b[1;33m\u001b[0m\u001b[0m\n\u001b[1;32m----> 2\u001b[1;33m \u001b[1;32mfrom\u001b[0m \u001b[0mpylablib\u001b[0m\u001b[1;33m.\u001b[0m\u001b[0maux_libs\u001b[0m\u001b[1;33m.\u001b[0m\u001b[0mdevices\u001b[0m \u001b[1;32mimport\u001b[0m \u001b[0mLakeshore\u001b[0m\u001b[1;33m\u001b[0m\u001b[1;33m\u001b[0m\u001b[0m\n\u001b[0m",
      "\u001b[1;32m~\\anaconda3\\lib\\site-packages\\pylablib\\aux_libs.py\u001b[0m in \u001b[0;36m<module>\u001b[1;34m\u001b[0m\n\u001b[1;32m----> 1\u001b[1;33m \u001b[1;32mraise\u001b[0m \u001b[0mImportError\u001b[0m\u001b[1;33m(\u001b[0m\u001b[1;34m\"'aux_libs' module has been moved into 'legacy'; replace 'pylablib.aux_libs' with 'pylablib.legacy.aux_libs'\"\u001b[0m\u001b[1;33m)\u001b[0m\u001b[1;33m\u001b[0m\u001b[1;33m\u001b[0m\u001b[0m\n\u001b[0m",
      "\u001b[1;31mImportError\u001b[0m: 'aux_libs' module has been moved into 'legacy'; replace 'pylablib.aux_libs' with 'pylablib.legacy.aux_libs'"
     ]
    }
   ],
   "source": [
    "import pylablib as pll\n",
    "from pylablib.aux_libs.devices import Lakeshore"
   ]
  },
  {
   "cell_type": "code",
   "execution_count": 2,
   "metadata": {},
   "outputs": [],
   "source": [
    "from pylablib.devices import Thorlabs  # import the device libraries\n",
    "import numpy as np  # import numpy for saving\n",
    "import ft232\n",
    "\n",
    "# connect to the devices\n",
    "with Thorlabs.KinesisMotor(\"27001274\") as stage:\n",
    "    stage.move_by(10000)  # initiate a move\n",
    "    stage.wait_move()  # wait until it's done\n",
    "\n",
    "\n"
   ]
  },
  {
   "cell_type": "code",
   "execution_count": 4,
   "metadata": {},
   "outputs": [],
   "source": [
    "probePower(20)"
   ]
  },
  {
   "cell_type": "code",
   "execution_count": 4,
   "metadata": {},
   "outputs": [],
   "source": [
    "pumpPower(10)"
   ]
  },
  {
   "cell_type": "code",
   "execution_count": null,
   "metadata": {},
   "outputs": [],
   "source": []
  }
 ],
 "metadata": {
  "kernelspec": {
   "display_name": "Python 3",
   "language": "python",
   "name": "python3"
  },
  "language_info": {
   "codemirror_mode": {
    "name": "ipython",
    "version": 3
   },
   "file_extension": ".py",
   "mimetype": "text/x-python",
   "name": "python",
   "nbconvert_exporter": "python",
   "pygments_lexer": "ipython3",
   "version": "3.7.6"
  }
 },
 "nbformat": 4,
 "nbformat_minor": 2
}
