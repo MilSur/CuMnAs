{
 "cells": [
  {
   "cell_type": "markdown",
   "metadata": {},
   "source": [
    "- novy vzorek P074#35B, device cislo 2 (15 um)\n",
    "- 4p odpor na zacatku 38 ohm, 2p sourcovaci odpor je 161 ohms\n",
    "- stopy ted vypadaji ruzne velke, probe je asi mensi (dela vetsi diru)\n",
    "- mel by byt i +- prekryv, mozna je probe trochu napravo od pumpu, ale nechci na to sahat"
   ]
  },
  {
   "cell_type": "markdown",
   "metadata": {},
   "source": [
    "# Swichovani"
   ]
  },
  {
   "cell_type": "markdown",
   "metadata": {},
   "source": [
    "- **Aa1:** switchovani pumpem - zacatek od 40 mW, u 45 mW uz pekny signal (0.5 %)\n",
    "- **Aa2:** switchovani probem - zacatek od 30 mW, u 35 mW uz pekny signal (0.5 %)"
   ]
  },
  {
   "cell_type": "markdown",
   "metadata": {},
   "source": [
    "# Korelace\n",
    "- chopper v pumpu na 100 Hz\n",
    "- probe: 7 mW (0.2 * 35 mW)\n",
    "- pump: od 20 -> 40 mw (od 36 mW, tj. 0.8* 45 mW, by melo uz urcite switchovat) \n",
    "- pojedu od hodne vydelenych pulzu\n",
    "- A(3) - B(2), 200x zesileni na algebratoru"
   ]
  },
  {
   "cell_type": "markdown",
   "metadata": {},
   "source": [
    "### 200 Hz pulzu (DR=951, 1 - 2 pulzy v okne chopperu):\n",
    "serie **Ba**\n",
    "- Ba1: pump 20 mW, probe 7 mW, DR 951, 110 Hz chopper, casovka 300 ms, zesileni 200x, source current 100 um\n",
    "- Ba2: pump 24 mW, probe 7 mW, DR 951, 110 Hz chopper, casovka 300 ms, zesileni 200x, source current 100 um\n",
    "- Ba3: pump 28 mW, probe 7 mW, DR 951, 110 Hz chopper, casovka 300 ms, zesileni 200x, source current 100 um\n",
    "- Ba4: pump 32 mW, probe 7 mW, DR 951, 110 Hz chopper, casovka 300 ms, zesileni 200x, source current 100 um\n",
    "- Ba5: pump 36 mW, probe 7 mW, DR 951, 110 Hz chopper, casovka 300 ms, zesileni 200x, source current 100 um\n",
    "- Ba6: pump 40 mW, probe 7 mW, DR 951, 110 Hz chopper, casovka 300 ms, zesileni 200x, source current 100 um"
   ]
  },
  {
   "cell_type": "markdown",
   "metadata": {},
   "source": [
    "### 2000 Hz pulzu (DR=95.1, 10 - 20 pulzy v okne chopperu):\n",
    "serie **Bb**\n",
    "- Bb1: pump 20 mW, probe 7 mW, DR 95.1, 110 Hz chopper, casovka 300 ms, zesileni 200x, source current 100 um\n",
    "- Bb2: pump 24 mW, probe 7 mW, DR 95.1, 110 Hz chopper, casovka 300 ms, zesileni 200x, source current 100 um\n",
    "- Bb3: pump 28 mW, probe 7 mW, DR 95.1, 110 Hz chopper, casovka 300 ms, zesileni 200x, source current 100 um\n",
    "- Bb4: pump 32 mW, probe 7 mW, DR 95.1, 110 Hz chopper, casovka 300 ms, zesileni 200x, source current 100 um\n",
    "- Bb5: pump 36 mW, probe 7 mW, DR 95.1, 110 Hz chopper, casovka 300 ms, zesileni 200x, source current 100 um\n",
    "- Bb6: pump 40 mW, probe 7 mW, DR 95.1, 110 Hz chopper, casovka 300 ms, zesileni 200x, source current 100 um\n",
    "- Bb6a: pump 40 mW, probe 7 mW, DR 95.1, 110 Hz chopper, casovka 300 ms, zesileni 200x, source current 100 um, jemny krok\n",
    "vzorek uz ma cerny flek, 4p odpor devicu je ted 140 ohm"
   ]
  },
  {
   "cell_type": "markdown",
   "metadata": {},
   "source": [
    "### 19000 Hz pulzu (DR=10, 100 - 200 pulzy v okne chopperu):\n",
    "serie **Bc**\n",
    "- Bc1: pump 20 mW, probe 7 mW, DR 10, 110 Hz chopper, casovka 300 ms, zesileni 200x, source current 100 um\n",
    "- Bc2: pump 24 mW, probe 7 mW, DR 10, 110 Hz chopper, casovka 300 ms, zesileni 200x, source current 100 um\n",
    "- Bc3: pump 28 mW, probe 7 mW, DR 10, 110 Hz chopper, casovka 300 ms, zesileni 200x, source current 100 um\n",
    "- Bc4: pump 32 mW, probe 7 mW, DR 10, 110 Hz chopper, casovka 300 ms, zesileni 200x, source current 100 um\n",
    "- Bc5: pump 36 mW, probe 7 mW, DR 10, 110 Hz chopper, casovka 300 ms, zesileni 200x, source current 100 um\n",
    "- Bc6: pump 40 mW, probe 7 mW, DR 10, 110 Hz chopper, casovka 300 ms, zesileni 200x, source current 100 um"
   ]
  },
  {
   "cell_type": "markdown",
   "metadata": {},
   "source": [
    "### 190200 Hz pulzu (DR=1, 1000 - 2000 pulzy v okne chopperu):\n",
    "serie **Bd**\n",
    "\n",
    "- Bd1: pump 20 mW, probe 7 mW, DR 1, 110 Hz chopper, casovka 300 ms, zesileni 200x, source current 100 um\n",
    "- Bd2: pump 24 mW, probe 7 mW, DR 1, 110 Hz chopper, casovka 300 ms, zesileni 200x, source current 100 um\n",
    "- Bd3: pump 28 mW, probe 7 mW, DR 1, 110 Hz chopper, casovka 300 ms, zesileni 200x, source current 100 um\n",
    "- Bd4: pump 32 mW, probe 7 mW, DR 1, 110 Hz chopper, casovka 300 ms, zesileni 200x, source current 100 um\n",
    "- Bd5: pump 36 mW, probe 7 mW, DR 1, 110 Hz chopper, casovka 300 ms, zesileni 200x, source current 100 um\n",
    "- Bd6: pump 40 mW, probe 7 mW, DR 1, 110 Hz chopper, casovka 300 ms, zesileni 200x, source current 100 um"
   ]
  },
  {
   "cell_type": "markdown",
   "metadata": {},
   "source": [
    "# Switchovaci experiment\n",
    "-  na devicu cislo 2 (20 um) "
   ]
  },
  {
   "cell_type": "markdown",
   "metadata": {},
   "source": [
    "Aa1_probe: switchovani probu\n",
    "Aa2_pump: switchovani pumpu"
   ]
  },
  {
   "cell_type": "code",
   "execution_count": null,
   "metadata": {},
   "outputs": [],
   "source": [
    "nakonec 15mW a 37 mW"
   ]
  }
 ],
 "metadata": {
  "kernelspec": {
   "display_name": "Python 3",
   "language": "python",
   "name": "python3"
  },
  "language_info": {
   "codemirror_mode": {
    "name": "ipython",
    "version": 3
   },
   "file_extension": ".py",
   "mimetype": "text/x-python",
   "name": "python",
   "nbconvert_exporter": "python",
   "pygments_lexer": "ipython3",
   "version": "3.7.6"
  }
 },
 "nbformat": 4,
 "nbformat_minor": 4
}
