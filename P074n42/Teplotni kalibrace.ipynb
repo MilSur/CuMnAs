{
 "cells": [
  {
   "cell_type": "markdown",
   "metadata": {},
   "source": [
    "# import knihoven a zjisteni portu komunikace"
   ]
  },
  {
   "cell_type": "code",
   "execution_count": 1,
   "metadata": {},
   "outputs": [
    {
     "data": {
      "text/plain": [
       "('ASRL1::INSTR', 'GPIB0::15::INSTR', 'GPIB0::16::INSTR', 'GPIB0::23::INSTR')"
      ]
     },
     "execution_count": 1,
     "metadata": {},
     "output_type": "execute_result"
    }
   ],
   "source": [
    "import numpy as np\n",
    "import lakeshore\n",
    "import pyvisa\n",
    "import time\n",
    "from pathlib import Path\n",
    "import os\n",
    "\n",
    "rm = pyvisa.ResourceManager()\n",
    "rm.list_resources()"
   ]
  },
  {
   "cell_type": "markdown",
   "metadata": {},
   "source": [
    "# Inicializace pristroju"
   ]
  },
  {
   "cell_type": "code",
   "execution_count": 2,
   "metadata": {},
   "outputs": [],
   "source": [
    "merak = rm.open_resource('GPIB0::11::INSTR')\n",
    "zdroj = rm.open_resource('ASRL4::INSTR')"
   ]
  },
  {
   "cell_type": "markdown",
   "metadata": {},
   "source": [
    "# Definice prikazu"
   ]
  },
  {
   "cell_type": "code",
   "execution_count": 3,
   "metadata": {},
   "outputs": [],
   "source": [
    "# ZDROJ\n",
    "def set_I(I):\n",
    "    zdroj.write(\"ISET1:\"+str(I))\n",
    "    time.sleep(0.05) # 50 ms\n",
    "    zdroj.query(\"ISET1?\")\n",
    "    return(float(zdroj.query(\"ISET1?\")))\n",
    "def open_I():\n",
    "    zdroj.write(\"OUT1\")\n",
    "\n",
    "def close_I():\n",
    "    zdroj.write(\"OUT0\")\n",
    "    \n",
    "def read_I():\n",
    "    zdroj.query(\"IOUT1?\")\n",
    "    return float(zdroj.query(\"IOUT1?\"))\n",
    "\n",
    "# MERAK\n",
    "def read_T():\n",
    "    merak.query(\"CRDG?\")\n",
    "    return(float(merak.query(\"CRDG?\")))\n"
   ]
  },
  {
   "cell_type": "markdown",
   "metadata": {},
   "source": [
    "## Merici skript "
   ]
  },
  {
   "cell_type": "code",
   "execution_count": 4,
   "metadata": {},
   "outputs": [
    {
     "name": "stdout",
     "output_type": "stream",
     "text": [
      "4.0 is set and now is waiting to stabilize\n",
      "Measurement is in progress\n",
      "4.0  A saved to I_4,0.dat\n",
      "----------------------------------------------\n",
      "4.25 is set and now is waiting to stabilize\n",
      "Measurement is in progress\n",
      "4.25  A saved to I_4,25.dat\n",
      "----------------------------------------------\n",
      "4.5 is set and now is waiting to stabilize\n",
      "Measurement is in progress\n",
      "4.5  A saved to I_4,5.dat\n",
      "----------------------------------------------\n",
      "4.75 is set and now is waiting to stabilize\n",
      "Measurement is in progress\n",
      "4.75  A saved to I_4,75.dat\n",
      "----------------------------------------------\n",
      "5.0 is set and now is waiting to stabilize\n",
      "Measurement is in progress\n",
      "5.0  A saved to I_5,0.dat\n",
      "----------------------------------------------\n",
      "5.25 is set and now is waiting to stabilize\n",
      "Measurement is in progress\n",
      "5.25  A saved to I_5,25.dat\n",
      "----------------------------------------------\n",
      "5.5 is set and now is waiting to stabilize\n",
      "Measurement is in progress\n",
      "5.5  A saved to I_5,5.dat\n",
      "----------------------------------------------\n",
      "5.75 is set and now is waiting to stabilize\n",
      "Measurement is in progress\n",
      "5.75  A saved to I_5,75.dat\n",
      "----------------------------------------------\n",
      "6.0 is set and now is waiting to stabilize\n",
      "Measurement is in progress\n",
      "6.0  A saved to I_6,0.dat\n",
      "----------------------------------------------\n",
      "6.25 is set and now is waiting to stabilize\n",
      "Measurement is in progress\n",
      "6.25  A saved to I_6,25.dat\n",
      "----------------------------------------------\n",
      "6.5 is set and now is waiting to stabilize\n",
      "Measurement is in progress\n",
      "6.5  A saved to I_6,5.dat\n",
      "----------------------------------------------\n",
      "6.75 is set and now is waiting to stabilize\n",
      "Measurement is in progress\n",
      "6.75  A saved to I_6,75.dat\n",
      "----------------------------------------------\n",
      "7.0 is set and now is waiting to stabilize\n",
      "Measurement is in progress\n",
      "7.0  A saved to I_7,0.dat\n",
      "----------------------------------------------\n",
      "Finished!\n"
     ]
    }
   ],
   "source": [
    "# pripojit a iniciaizovat zarizeni\n",
    "merak = rm.open_resource('GPIB0::11::INSTR')\n",
    "zdroj = rm.open_resource('ASRL4::INSTR')\n",
    "close_I()\n",
    "\n",
    "# merici cyklus\n",
    "I_min = 4 # v Amperech\n",
    "I_max = 7 # v Amperech\n",
    "I_step = 0.25 # v Amperech\n",
    "\n",
    "mydir = r\"D:\\FilipKalibrace\"\n",
    "\n",
    "wait_time = 5 # v minutach\n",
    "measure_time = 60 # v sekundach\n",
    "\n",
    "set_I(0.0)\n",
    "open_I()\n",
    "for i in np.arange(I_min,I_max+I_step, I_step):\n",
    "    # jeden krok cyklu\n",
    "    set_I(i)\n",
    "    print(str(i)+\" is set and now is waiting to stabilize\")\n",
    "    time.sleep(wait_time*60)\n",
    "    print(\"Measurement is in progress\")\n",
    "    temps = []\n",
    "    for j in range(0,measure_time):\n",
    "        temp = read_T()\n",
    "        temps.append(temp)\n",
    "        time.sleep(1)\n",
    "    \n",
    "    filepath= os.path.join(mydir, \"I_\"+str(i).replace('.',',')+\".dat\")\n",
    "    np.savetxt(filepath, np.array(temps))\n",
    "    print(i, \" A saved to \"+\"I_\"+str(i).replace('.',',')+\".dat\")\n",
    "    print(\"----------------------------------------------\")\n",
    "          \n",
    "close_I()\n",
    "print(\"Finished!\")\n"
   ]
  },
  {
   "cell_type": "code",
   "execution_count": 4,
   "metadata": {},
   "outputs": [
    {
     "name": "stdout",
     "output_type": "stream",
     "text": [
      "23.024\n"
     ]
    }
   ],
   "source": [
    "print(read_T())"
   ]
  },
  {
   "cell_type": "code",
   "execution_count": null,
   "metadata": {},
   "outputs": [],
   "source": []
  }
 ],
 "metadata": {
  "kernelspec": {
   "display_name": "Python 3",
   "language": "python",
   "name": "python3"
  },
  "language_info": {
   "codemirror_mode": {
    "name": "ipython",
    "version": 3
   },
   "file_extension": ".py",
   "mimetype": "text/x-python",
   "name": "python",
   "nbconvert_exporter": "python",
   "pygments_lexer": "ipython3",
   "version": "3.7.6"
  }
 },
 "nbformat": 4,
 "nbformat_minor": 4
}
